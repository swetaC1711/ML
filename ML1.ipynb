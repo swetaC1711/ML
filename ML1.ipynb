{
  "nbformat": 4,
  "nbformat_minor": 0,
  "metadata": {
    "colab": {
      "provenance": [],
      "authorship_tag": "ABX9TyPbHB3HtSakKN0auM64ck10",
      "include_colab_link": true
    },
    "kernelspec": {
      "name": "python3",
      "display_name": "Python 3"
    },
    "language_info": {
      "name": "python"
    }
  },
  "cells": [
    {
      "cell_type": "markdown",
      "metadata": {
        "id": "view-in-github",
        "colab_type": "text"
      },
      "source": [
        "<a href=\"https://colab.research.google.com/github/swetaC1711/ML/blob/main/ML1.ipynb\" target=\"_parent\"><img src=\"https://colab.research.google.com/assets/colab-badge.svg\" alt=\"Open In Colab\"/></a>"
      ]
    },
    {
      "cell_type": "code",
      "execution_count": null,
      "metadata": {
        "id": "xlSSRJiNczTR"
      },
      "outputs": [],
      "source": [
        "#Vriable -> data container(where exactly you are storing your values)\n",
        "num=10"
      ]
    },
    {
      "cell_type": "code",
      "source": [
        "print(num);\n",
        "print(type(num));"
      ],
      "metadata": {
        "colab": {
          "base_uri": "https://localhost:8080/"
        },
        "id": "vdDeJMPFfhEY",
        "outputId": "547896a0-49a0-4143-bd79-a100623137e9"
      },
      "execution_count": null,
      "outputs": [
        {
          "output_type": "stream",
          "name": "stdout",
          "text": [
            "10\n",
            "<class 'int'>\n"
          ]
        }
      ]
    },
    {
      "cell_type": "code",
      "source": [
        "#string -> set of characters\n",
        "strn ='introduction';\n",
        "print(strn);\n",
        "print(type(strn));"
      ],
      "metadata": {
        "colab": {
          "base_uri": "https://localhost:8080/"
        },
        "id": "5e7G__0QkjEy",
        "outputId": "d8446300-c3d1-46c2-9725-3a15312d611d"
      },
      "execution_count": null,
      "outputs": [
        {
          "output_type": "stream",
          "name": "stdout",
          "text": [
            "introduction\n",
            "<class 'str'>\n"
          ]
        }
      ]
    },
    {
      "cell_type": "code",
      "source": [
        "#boolean -> true or false\n",
        "print(7>5);"
      ],
      "metadata": {
        "colab": {
          "base_uri": "https://localhost:8080/"
        },
        "id": "9B-sJKGBkjHs",
        "outputId": "b43d3cab-04db-450d-a1cc-d1606f8c3441"
      },
      "execution_count": null,
      "outputs": [
        {
          "output_type": "stream",
          "name": "stdout",
          "text": [
            "True\n"
          ]
        }
      ]
    },
    {
      "cell_type": "code",
      "source": [
        "#concatination -> combining the datas\n",
        "num1=9;\n",
        "num2=9.7;\n",
        "print(num1+num2);\n",
        "n1='hello';\n",
        "n2='world';\n",
        "print(n1+n2);\n",
        "print(n1 ,n2);\n"
      ],
      "metadata": {
        "colab": {
          "base_uri": "https://localhost:8080/"
        },
        "id": "bEHEef6RlG5y",
        "outputId": "2305ee31-2494-43b0-dd43-f0ba48704cd3"
      },
      "execution_count": null,
      "outputs": [
        {
          "output_type": "stream",
          "name": "stdout",
          "text": [
            "18.7\n",
            "helloworld\n",
            "hello world\n"
          ]
        }
      ]
    },
    {
      "cell_type": "markdown",
      "source": [
        "class 2"
      ],
      "metadata": {
        "id": "CZyVQShlm-my"
      }
    },
    {
      "cell_type": "code",
      "source": [
        "#collective data types -> list, set, tuple, dictionary\n",
        "myList = [\"data\",\"a\",\"task\",\"course\",89,6.09,True]\n",
        "print(myList[3])\n",
        "print(myList)\n",
        "print(type(myList))\n",
        "\n",
        "#update\n",
        "myList[-2]=47;\n",
        "\n",
        "#append(add)\n",
        "myList.append(\"green\");\n",
        "print(myList)\n",
        "\n",
        "#insert\n",
        "myList.insert(-3,\"insert\");\n",
        "print(myList)\n",
        "\n",
        "#add two list\n",
        "list1=[1,23,456]\n",
        "list1.extend(myList)\n",
        "print(list1)\n",
        "\n",
        "#remove\n",
        "myList.remove(89)\n",
        "print(myList)\n",
        "\n",
        "#delete\n",
        "del myList[-5]\n",
        "print(myList)\n",
        "\n"
      ],
      "metadata": {
        "colab": {
          "base_uri": "https://localhost:8080/"
        },
        "id": "a1bSKt8dnF_G",
        "outputId": "e94e508d-3f53-42b5-d03a-38bea46e367b"
      },
      "execution_count": null,
      "outputs": [
        {
          "output_type": "stream",
          "name": "stdout",
          "text": [
            "course\n",
            "['data', 'a', 'task', 'course', 89, 6.09, True]\n",
            "<class 'list'>\n",
            "['data', 'a', 'task', 'course', 89, 47, True, 'green']\n",
            "['data', 'a', 'task', 'course', 89, 'insert', 47, True, 'green']\n",
            "[1, 23, 456, 'data', 'a', 'task', 'course', 89, 'insert', 47, True, 'green']\n",
            "['data', 'a', 'task', 'course', 'insert', 47, True, 'green']\n",
            "['data', 'a', 'task', 'insert', 47, True, 'green']\n"
          ]
        }
      ]
    },
    {
      "cell_type": "code",
      "source": [
        "#tuple -> ordered collection of datatype,(),immutable\n",
        "tup=(\"del\",\"doll\",98,9.7,False)\n",
        "print(len(tup))"
      ],
      "metadata": {
        "colab": {
          "base_uri": "https://localhost:8080/"
        },
        "id": "A0ybafwDsE-A",
        "outputId": "3be4d4d6-9cc6-4b5b-8296-6d3e13cb5efa"
      },
      "execution_count": null,
      "outputs": [
        {
          "output_type": "stream",
          "name": "stdout",
          "text": [
            "5\n"
          ]
        }
      ]
    },
    {
      "cell_type": "code",
      "source": [
        "#dictionary -> {keys:values}\n",
        "mydic={\"username\":\"admin\",\n",
        "       \"password\":\"pass\",\n",
        "       \"batch\":2023\n",
        "       }\n",
        "print(mydic)\n",
        "print(mydic[\"username\"])\n",
        "\n",
        "#update\n",
        "mydic[\"username\"]=\"admin123\"\n",
        "print(mydic)\n",
        "\n",
        "mydic[\"username\"]=(\"admin\",\"admin123\")\n",
        "print(mydic)\n",
        "\n",
        "#append\n",
        "mydic[\"course\"]=977\n",
        "print(mydic)\n",
        "\n",
        "l1=[1,2,3,4]\n",
        "mydic[\"password\"]=l1\n",
        "print(mydic)\n",
        "\n",
        "#pop\n",
        "mydic.pop(\"username\")\n",
        "print(mydic)\n",
        "\n",
        "\n",
        "#update key\n",
        "new=mydic[\"course\"]\n",
        "del mydic[\"course\"]\n",
        "mydic[\"learning\"]=new\n",
        "print(mydic)\n",
        "\n",
        "#delete\n",
        "del mydic"
      ],
      "metadata": {
        "colab": {
          "base_uri": "https://localhost:8080/"
        },
        "id": "L1oqOcdcs9it",
        "outputId": "6e027077-9f4a-49ff-b70e-237292df8b82"
      },
      "execution_count": null,
      "outputs": [
        {
          "output_type": "stream",
          "name": "stdout",
          "text": [
            "{'username': 'admin', 'password': 'pass', 'batch': 2023}\n",
            "admin\n",
            "{'username': 'admin123', 'password': 'pass', 'batch': 2023}\n",
            "{'username': ('admin', 'admin123'), 'password': 'pass', 'batch': 2023}\n",
            "{'username': ('admin', 'admin123'), 'password': 'pass', 'batch': 2023, 'course': 977}\n",
            "{'username': ('admin', 'admin123'), 'password': [1, 2, 3, 4], 'batch': 2023, 'course': 977}\n",
            "{'password': [1, 2, 3, 4], 'batch': 2023, 'course': 977}\n",
            "{'password': [1, 2, 3, 4], 'batch': 2023, 'learning': 977}\n"
          ]
        }
      ]
    },
    {
      "cell_type": "code",
      "source": [
        "#set->unorder, unindexed collection of datatypes, {}, doen't contain a duplicate value\n",
        "\n",
        "myset={\"data\",\"task\",12,23.6,False,\"hello\"}\n",
        "print(myset) #randomvalue\n",
        "\n",
        "#add or append\n",
        "myset.add(\"true\")\n",
        "print(myset)\n",
        "\n",
        "\n",
        "set1={1,23,4,5,56,9}\n",
        "set2={2,3,0,8,3,4}\n",
        "set3=set1.union(set2)\n",
        "print(set3)\n",
        "#unioun sign--> |\n",
        "set4=set1|set2\n",
        "print(set4)\n",
        "\n",
        "#intersection\n",
        "set4=myset.intersection(set1)\n",
        "print(set4)"
      ],
      "metadata": {
        "colab": {
          "base_uri": "https://localhost:8080/"
        },
        "id": "NJJa45OInfQv",
        "outputId": "e88169b9-8c6d-4a89-eba1-ebf836934069"
      },
      "execution_count": null,
      "outputs": [
        {
          "output_type": "stream",
          "name": "stdout",
          "text": [
            "{False, 'hello', 12, 'task', 23.6, 'data'}\n",
            "{False, 'hello', 12, 'true', 'task', 23.6, 'data'}\n",
            "{0, 1, 2, 3, 4, 5, 8, 9, 23, 56}\n",
            "{0, 1, 2, 3, 4, 5, 8, 9, 23, 56}\n",
            "set()\n"
          ]
        }
      ]
    },
    {
      "cell_type": "code",
      "source": [
        "set1={1,2,3,4,5}\n",
        "set2={1,57,5,6,7,7}\n",
        "set3=set1&set2\n",
        "print(set3)\n",
        "\n",
        "set2.clear()\n",
        "print(set2)"
      ],
      "metadata": {
        "colab": {
          "base_uri": "https://localhost:8080/"
        },
        "id": "DdXUZjtIrnPp",
        "outputId": "cc2caa43-1fc9-4a1d-9514-58075d77fed8"
      },
      "execution_count": null,
      "outputs": [
        {
          "output_type": "stream",
          "name": "stdout",
          "text": [
            "{1, 5}\n",
            "set()\n"
          ]
        }
      ]
    },
    {
      "cell_type": "code",
      "source": [
        "#difference\n",
        "set4=set1.difference(set2)\n",
        "print(set4)"
      ],
      "metadata": {
        "colab": {
          "base_uri": "https://localhost:8080/"
        },
        "id": "DfLRBOrvsAR0",
        "outputId": "a46f5c53-e66e-4b65-8788-9209e9a37dee"
      },
      "execution_count": null,
      "outputs": [
        {
          "output_type": "stream",
          "name": "stdout",
          "text": [
            "{1, 2, 3, 4, 5}\n"
          ]
        }
      ]
    },
    {
      "cell_type": "code",
      "source": [
        "dec={'we':12,'we1':12}\n",
        "print(dec)"
      ],
      "metadata": {
        "colab": {
          "base_uri": "https://localhost:8080/"
        },
        "id": "3p_2bhfxoaUI",
        "outputId": "99523f43-1f6f-4ca1-8aaf-ef5faa1153d6"
      },
      "execution_count": null,
      "outputs": [
        {
          "output_type": "stream",
          "name": "stdout",
          "text": [
            "{'we': 12, 'we1': 12}\n"
          ]
        }
      ]
    },
    {
      "cell_type": "code",
      "source": [
        "''' Assignment 1\n",
        "create a two different examples for collective datatypes in python'''\n"
      ],
      "metadata": {
        "id": "F8SiaVqttHe7"
      },
      "execution_count": null,
      "outputs": []
    },
    {
      "cell_type": "markdown",
      "source": [
        "class 4"
      ],
      "metadata": {
        "id": "G_0Uv1Bet4JL"
      }
    },
    {
      "cell_type": "code",
      "source": [
        "#Function -> a set of data will be executed when ever you call it"
      ],
      "metadata": {
        "id": "z4gHnwdPt4AU"
      },
      "execution_count": null,
      "outputs": []
    },
    {
      "cell_type": "code",
      "source": [
        "def a():\n",
        "  print(\"hello world\")\n",
        "\n",
        "a()"
      ],
      "metadata": {
        "colab": {
          "base_uri": "https://localhost:8080/"
        },
        "id": "ugnzjJa7tFfV",
        "outputId": "e6b78bae-a41c-41c0-f4ec-464ef89a9e30"
      },
      "execution_count": null,
      "outputs": [
        {
          "output_type": "stream",
          "name": "stdout",
          "text": [
            "hello world\n"
          ]
        }
      ]
    },
    {
      "cell_type": "code",
      "source": [
        "def add(num1,num2): #num1 and num2 are parameters,  #add() is a function name\n",
        "    print(num1+num2)\n",
        "add(6,9)# 6,9 are arguments"
      ],
      "metadata": {
        "colab": {
          "base_uri": "https://localhost:8080/"
        },
        "id": "wVuhGgIduuwa",
        "outputId": "6535ad47-007a-432e-fc8e-ee8ca60ec9f9"
      },
      "execution_count": null,
      "outputs": [
        {
          "output_type": "stream",
          "name": "stdout",
          "text": [
            "15\n"
          ]
        }
      ]
    },
    {
      "cell_type": "code",
      "source": [
        "def add():\n",
        "  n1=int(input(\"enter num1: \"))\n",
        "  n2=int(input(\"enter num2: \"))\n",
        "  print(n1+n2)\n",
        "add()"
      ],
      "metadata": {
        "colab": {
          "base_uri": "https://localhost:8080/"
        },
        "id": "Zm5ALQ172DuA",
        "outputId": "ee20a3fc-d1b3-486e-9862-b3659f8e3597"
      },
      "execution_count": null,
      "outputs": [
        {
          "output_type": "stream",
          "name": "stdout",
          "text": [
            "enter num1: 2\n",
            "enter num2: 3\n",
            "5\n"
          ]
        }
      ]
    },
    {
      "cell_type": "code",
      "source": [
        "a=5\n",
        "for i in range(0,a):\n",
        "  print(i)"
      ],
      "metadata": {
        "colab": {
          "base_uri": "https://localhost:8080/"
        },
        "id": "TnFn7-OzCrVa",
        "outputId": "ede0f5ab-9680-433b-d9f7-f0360d35aadb"
      },
      "execution_count": null,
      "outputs": [
        {
          "output_type": "stream",
          "name": "stdout",
          "text": [
            "0\n",
            "1\n",
            "2\n",
            "3\n",
            "4\n"
          ]
        }
      ]
    },
    {
      "cell_type": "code",
      "source": [
        "myList=[\"stack\",\"A\",\"for\",\"sub\",\"neg\",\"Tag\"]\n",
        "print(myList)\n",
        "for a in myList:\n",
        "  print(a)"
      ],
      "metadata": {
        "colab": {
          "base_uri": "https://localhost:8080/"
        },
        "id": "Owssx9cnDaLo",
        "outputId": "e53d1748-dd8d-4659-c691-739cd8eacaa9"
      },
      "execution_count": null,
      "outputs": [
        {
          "output_type": "stream",
          "name": "stdout",
          "text": [
            "['stack', 'A', 'for', 'sub', 'neg', 'Tag']\n",
            "stack\n",
            "A\n",
            "for\n",
            "sub\n",
            "neg\n",
            "Tag\n"
          ]
        }
      ]
    },
    {
      "cell_type": "code",
      "source": [
        "def x():\n",
        "  for i in range(0,-5,-2):#(start,stop,)\n",
        "    print(i)\n",
        "x()"
      ],
      "metadata": {
        "colab": {
          "base_uri": "https://localhost:8080/"
        },
        "id": "UZI96UprIhO2",
        "outputId": "702aece3-8ee0-48e4-ff55-5ae05475e27b"
      },
      "execution_count": null,
      "outputs": [
        {
          "output_type": "stream",
          "name": "stdout",
          "text": [
            "0\n",
            "-2\n",
            "-4\n"
          ]
        }
      ]
    },
    {
      "cell_type": "code",
      "source": [
        "info = {'name':'saurabh','age':20,'country':'India'}\n",
        "for i in info:\n",
        "    print(i ,':' ,info[i])\n",
        "for i in info:\n",
        "    print(i)"
      ],
      "metadata": {
        "colab": {
          "base_uri": "https://localhost:8080/"
        },
        "id": "UBIETWEaJwYe",
        "outputId": "4dd943c3-f330-464e-f391-c470b403432f"
      },
      "execution_count": null,
      "outputs": [
        {
          "output_type": "stream",
          "name": "stdout",
          "text": [
            "name : saurabh\n",
            "age : 20\n",
            "country : India\n",
            "name\n",
            "age\n",
            "country\n"
          ]
        }
      ]
    },
    {
      "cell_type": "code",
      "source": [
        "if(2>6):\n",
        "  print(\"2 is greater\")\n",
        "elif(2==6):\n",
        "  print(\"2 is equals to 6\")\n",
        "else:\n",
        "  print(\"6 is greater\")"
      ],
      "metadata": {
        "colab": {
          "base_uri": "https://localhost:8080/"
        },
        "id": "4MX9MzrLLSQ-",
        "outputId": "412f49e0-e405-4632-adb1-b660e46c85a3"
      },
      "execution_count": null,
      "outputs": [
        {
          "output_type": "stream",
          "name": "stdout",
          "text": [
            "6 is greater\n"
          ]
        }
      ]
    },
    {
      "cell_type": "code",
      "source": [
        "def quiz():\n",
        "  n=input()\n",
        "  if n==(\"a\"or\"b\"or\"c\"):\n",
        "    print(\"you have lost\")\n",
        "  elif n==9:\n",
        "    print(\"its a number\")\n",
        "  else:\n",
        "    print(\"none\") \n",
        "quiz()"
      ],
      "metadata": {
        "colab": {
          "base_uri": "https://localhost:8080/"
        },
        "id": "0Vvh0pRjMB_7",
        "outputId": "759226e0-81f4-4d04-9232-76890f8bfaea"
      },
      "execution_count": null,
      "outputs": [
        {
          "output_type": "stream",
          "name": "stdout",
          "text": [
            "c\n",
            "none\n"
          ]
        }
      ]
    },
    {
      "cell_type": "markdown",
      "source": [
        "CLASS 5"
      ],
      "metadata": {
        "id": "0c8Go5F1mDoZ"
      }
    },
    {
      "cell_type": "code",
      "source": [
        "'''\n",
        "file : where information can be stored\n",
        "  read mode\n",
        "  write mode\n",
        "  append mode: add new data to existing data but at the last \n",
        "'''\n",
        "\n",
        "#ASS2: work on r+,w+,a+"
      ],
      "metadata": {
        "colab": {
          "base_uri": "https://localhost:8080/",
          "height": 53
        },
        "id": "jULfdduFmHlM",
        "outputId": "9365bfa1-724a-4e51-c3e8-1170b909fd6e"
      },
      "execution_count": null,
      "outputs": [
        {
          "output_type": "execute_result",
          "data": {
            "text/plain": [
              "'\\nfile : where information can be stored\\n  read mode\\n  write mode\\n  append mode: add new data to existing data but at the last \\n'"
            ],
            "application/vnd.google.colaboratory.intrinsic+json": {
              "type": "string"
            }
          },
          "metadata": {},
          "execution_count": 29
        }
      ]
    },
    {
      "cell_type": "code",
      "source": [
        "file=open(\"a.txt\",\"r\")\n",
        "print(file.read())"
      ],
      "metadata": {
        "colab": {
          "base_uri": "https://localhost:8080/"
        },
        "id": "o4jsZFFRnC0S",
        "outputId": "e1e5f589-1ef8-427b-ccd3-e11b57dafc5b"
      },
      "execution_count": null,
      "outputs": [
        {
          "output_type": "stream",
          "name": "stdout",
          "text": [
            "file : where information can be stored\n",
            "  read mode\n",
            "  write mode\n",
            "  append mode: add new data to existing data but at the last \n"
          ]
        }
      ]
    },
    {
      "cell_type": "code",
      "source": [
        "file.close()"
      ],
      "metadata": {
        "id": "-WDoe9Pnobtm"
      },
      "execution_count": null,
      "outputs": []
    },
    {
      "cell_type": "code",
      "source": [
        "file=open(\"a.txt\",\"w\")\n",
        "file.write(\"this a internship program \")"
      ],
      "metadata": {
        "colab": {
          "base_uri": "https://localhost:8080/"
        },
        "id": "Txio_3FRoi2K",
        "outputId": "e0dca0c0-673e-4598-f018-e00f2d5a849a"
      },
      "execution_count": null,
      "outputs": [
        {
          "output_type": "execute_result",
          "data": {
            "text/plain": [
              "26"
            ]
          },
          "metadata": {},
          "execution_count": 57
        }
      ]
    },
    {
      "cell_type": "code",
      "source": [
        "file=open(\"a.txt\",\"r\")\n",
        "print(file.read())"
      ],
      "metadata": {
        "colab": {
          "base_uri": "https://localhost:8080/"
        },
        "id": "TVurRDyKpQuB",
        "outputId": "08ca8cf4-bb16-4f7f-c4ef-7fe73c59af31"
      },
      "execution_count": null,
      "outputs": [
        {
          "output_type": "stream",
          "name": "stdout",
          "text": [
            "this a internship program \n"
          ]
        }
      ]
    },
    {
      "cell_type": "code",
      "source": [
        "file=open(\"a.txt\",\"a\")\n",
        "file.write(\"\\n this is sweta\")\n",
        "file.write(\"\\n this is cool \")"
      ],
      "metadata": {
        "colab": {
          "base_uri": "https://localhost:8080/"
        },
        "id": "-rD84BfTp4pA",
        "outputId": "25eb20cc-e202-427f-8e24-ef934713cb97"
      },
      "execution_count": null,
      "outputs": [
        {
          "output_type": "execute_result",
          "data": {
            "text/plain": [
              "15"
            ]
          },
          "metadata": {},
          "execution_count": 60
        }
      ]
    },
    {
      "cell_type": "code",
      "source": [
        "file=open(\"a.txt\",\"r\")\n",
        "print(file.read())"
      ],
      "metadata": {
        "colab": {
          "base_uri": "https://localhost:8080/"
        },
        "id": "L-Ycqk4erbGX",
        "outputId": "cda9b35b-cb05-4f79-b034-1dea3e0341e5"
      },
      "execution_count": null,
      "outputs": [
        {
          "output_type": "stream",
          "name": "stdout",
          "text": [
            "this a internship program \n",
            " this is sweta\n",
            " this is cool \n"
          ]
        }
      ]
    },
    {
      "cell_type": "code",
      "source": [
        "with open(\"a.txt\",\"r\") as file1:\n",
        "  print(file1.read())"
      ],
      "metadata": {
        "colab": {
          "base_uri": "https://localhost:8080/"
        },
        "id": "CsyjnVWX0t2L",
        "outputId": "9d29b006-ad71-4912-cbbf-113a0973f22e"
      },
      "execution_count": null,
      "outputs": [
        {
          "output_type": "stream",
          "name": "stdout",
          "text": [
            "this a internship program \n",
            " this is sweta\n",
            " this is cool \n"
          ]
        }
      ]
    },
    {
      "cell_type": "code",
      "source": [
        "myLines=[\"data\\n\",\"Details\\n\",\"tasks\"]"
      ],
      "metadata": {
        "id": "S_G6YVN1_Qi6"
      },
      "execution_count": null,
      "outputs": []
    },
    {
      "cell_type": "code",
      "source": [
        "with open(\"b.txt\",\"a\") as fl:\n",
        "  fl.writelines(myLines)"
      ],
      "metadata": {
        "id": "l5zRdruU_d6z"
      },
      "execution_count": null,
      "outputs": []
    },
    {
      "cell_type": "code",
      "source": [
        "with open(\"b.txt\",\"r\") as fl:\n",
        "  print(fl.read())"
      ],
      "metadata": {
        "colab": {
          "base_uri": "https://localhost:8080/"
        },
        "id": "bq-jT2E6_2vV",
        "outputId": "75857bbd-630f-4d46-cc01-5e36a960e1e5"
      },
      "execution_count": null,
      "outputs": [
        {
          "output_type": "stream",
          "name": "stdout",
          "text": [
            "data\n",
            "Details\n",
            "tasks\n"
          ]
        }
      ]
    },
    {
      "cell_type": "code",
      "source": [
        "#CREATE SIMPLE CALCULATOR"
      ],
      "metadata": {
        "id": "TXNZCzzCAR4X"
      },
      "execution_count": null,
      "outputs": []
    },
    {
      "cell_type": "markdown",
      "source": [
        "CLASS 6"
      ],
      "metadata": {
        "id": "KFNpyfS-EseG"
      }
    },
    {
      "cell_type": "code",
      "source": [
        "#functions -> a set of code executed when ever you call it\n",
        "def _a_(name,no):\n",
        "  print(\"Hello all\",name,\"your roll number is: \",no)\n",
        "_a_(\"tom\",3)"
      ],
      "metadata": {
        "colab": {
          "base_uri": "https://localhost:8080/"
        },
        "id": "8ylZXkgTEuYP",
        "outputId": "a5671d55-3d63-4b6a-d3b7-50c8f10d5166"
      },
      "execution_count": null,
      "outputs": [
        {
          "output_type": "stream",
          "name": "stdout",
          "text": [
            "Hello all tom your roll number is:  3\n"
          ]
        }
      ]
    },
    {
      "cell_type": "code",
      "source": [
        "#Advanced argument passing\n",
        "#Positional argument->the function call corresponding to the order of the parameters\n",
        "#defined in function\n",
        "def arg(name,city,batch):\n",
        "  print(\"My name is\",name,\"and I am from\",city,\"and belongs to\",batch,\"batch\")\n",
        "  print(type(name))\n",
        "arg(\"sweta\",\"solapur\",batch=\"CSE\")\n",
        "#keyword arguments-> values that passes into function by a specific parameters(you will mention keywords name before passing the values)"
      ],
      "metadata": {
        "colab": {
          "base_uri": "https://localhost:8080/"
        },
        "id": "yY6fDY-bF5Qc",
        "outputId": "4c41ac1b-3130-4c25-c145-75e8ae482738"
      },
      "execution_count": null,
      "outputs": [
        {
          "output_type": "stream",
          "name": "stdout",
          "text": [
            "My name is sweta and I am from solapur and belongs to CSE batch\n",
            "<class 'str'>\n"
          ]
        }
      ]
    },
    {
      "cell_type": "code",
      "source": [
        "#default argument\n",
        "def arg(name=\"tom\",city=\"solapur\",batch=2020):\n",
        "  print(\"My name is\",name,\"and I am from\",city,\"and belongs to\",batch,\"batch\")\n",
        "  print(type(name))\n",
        "arg(\"sweta\")"
      ],
      "metadata": {
        "colab": {
          "base_uri": "https://localhost:8080/"
        },
        "id": "J-_mR-DBI9ql",
        "outputId": "d8683779-6a58-4cb0-8d46-69acfc89e4e4"
      },
      "execution_count": null,
      "outputs": [
        {
          "output_type": "stream",
          "name": "stdout",
          "text": [
            "My name is sweta and I am from solapur and belongs to 2020 batch\n",
            "<class 'str'>\n"
          ]
        }
      ]
    },
    {
      "cell_type": "code",
      "source": [
        "#Slicing->prints a sequence of elements\n",
        "s=\"Python course\"\n",
        "print(s[0])\n",
        "print(s[0:6:2])\n",
        "print(s[::2])\n",
        "print(s[-7:-13:-1]) #negative indexing\n",
        "print(s.replace(\"e\",\"n\"))"
      ],
      "metadata": {
        "colab": {
          "base_uri": "https://localhost:8080/"
        },
        "id": "TIzwDaviMvs2",
        "outputId": "b687454c-26a8-48af-ac98-0fe8fd7ed329"
      },
      "execution_count": null,
      "outputs": [
        {
          "output_type": "stream",
          "name": "stdout",
          "text": [
            "P\n",
            "Pto\n",
            "Pto ore\n",
            " nohty\n",
            "Python coursn\n"
          ]
        }
      ]
    },
    {
      "cell_type": "markdown",
      "source": [
        "Class 7"
      ],
      "metadata": {
        "id": "RWwKUFs2cZK8"
      }
    },
    {
      "cell_type": "code",
      "source": [
        "#N numberof arguments(*arg-> when we don't know the exact number of argument we use *args)\n",
        "def details(Teachers,*args):\n",
        "  print(\"The teacher name is\",Teachers)\n",
        "  for i in args:\n",
        "    print(\"the student rollno are\",i)\n",
        "details(\"lucy\",1,4,6,7,8)"
      ],
      "metadata": {
        "id": "sz3u8dWEaQgu"
      },
      "execution_count": null,
      "outputs": []
    },
    {
      "cell_type": "code",
      "source": [
        "#**kwargs-> The reason is that the double star allows us to pass through keyword arguments (and any number of them).\n",
        "def details(Teachers,*args,**kwargs):\n",
        "  print(\"The teacher name is\",Teachers)\n",
        "  s_args=sorted(args)\n",
        "  for i in s_args:\n",
        "    print(\"the student rollno are\",i)\n",
        "  for i in kwargs:\n",
        "    print(i,kwargs[i])\n",
        "details(\"lucy\",1,4,6,7,8,9,6,python=100,webdev=50,dataScience=30)"
      ],
      "metadata": {
        "id": "ZKOnY4h0N6h9",
        "colab": {
          "base_uri": "https://localhost:8080/"
        },
        "outputId": "a0b3bb7d-c8d2-4fa7-ca99-dae876d5b8ed"
      },
      "execution_count": null,
      "outputs": [
        {
          "output_type": "stream",
          "name": "stdout",
          "text": [
            "The teacher name is lucy\n",
            "the student rollno are 1\n",
            "the student rollno are 4\n",
            "the student rollno are 6\n",
            "the student rollno are 6\n",
            "the student rollno are 7\n",
            "the student rollno are 8\n",
            "the student rollno are 9\n",
            "python 100\n",
            "webdev 50\n",
            "dataScience 30\n"
          ]
        }
      ]
    },
    {
      "cell_type": "code",
      "source": [],
      "metadata": {
        "id": "gr2YvD2sEnRQ"
      },
      "execution_count": null,
      "outputs": []
    },
    {
      "cell_type": "code",
      "source": [
        "#Iterators -> an object that contains a countable number of values\n",
        "#Iter and next\n",
        "\n",
        "list=[1,45,9,97,7,8,96,89,56,3,6,3]\n",
        "myiter=iter(list)\n",
        "print(next(myiter))\n",
        "print(next(myiter))\n",
        "print(next(myiter))\n",
        "print(next(myiter))\n"
      ],
      "metadata": {
        "colab": {
          "base_uri": "https://localhost:8080/"
        },
        "id": "xYNNLFxScVs0",
        "outputId": "bff52d9d-77b9-4866-a835-4bd9e69e6c6f"
      },
      "execution_count": null,
      "outputs": [
        {
          "output_type": "stream",
          "name": "stdout",
          "text": [
            "1\n",
            "45\n",
            "9\n",
            "97\n"
          ]
        }
      ]
    },
    {
      "cell_type": "code",
      "source": [
        "for i in list:\n",
        "  print(i)"
      ],
      "metadata": {
        "colab": {
          "base_uri": "https://localhost:8080/"
        },
        "id": "ME1tidWmeaBz",
        "outputId": "8f9943d2-a5f4-4b65-b25d-d4ffccd47e9c"
      },
      "execution_count": null,
      "outputs": [
        {
          "output_type": "stream",
          "name": "stdout",
          "text": [
            "1\n",
            "45\n",
            "9\n",
            "97\n",
            "7\n",
            "8\n",
            "96\n",
            "89\n",
            "56\n",
            "3\n",
            "6\n",
            "3\n"
          ]
        }
      ]
    },
    {
      "cell_type": "code",
      "source": [
        "seq=\"helloworld\"\n",
        "print(seq.index(\"o\"))\n",
        "print(seq.index(\"l\",4))#after index value 4 is there any l symbol"
      ],
      "metadata": {
        "colab": {
          "base_uri": "https://localhost:8080/"
        },
        "id": "1wBqwXz3ecrs",
        "outputId": "5bade7b0-46bb-497f-a702-2a85457bd1bf"
      },
      "execution_count": null,
      "outputs": [
        {
          "output_type": "stream",
          "name": "stdout",
          "text": [
            "4\n",
            "8\n"
          ]
        }
      ]
    },
    {
      "cell_type": "code",
      "source": [
        "c=[12,34,78,2,3,4,1,9,42]\n",
        "print(c.index(34,0,4))#34 no between index 0 and index 4"
      ],
      "metadata": {
        "colab": {
          "base_uri": "https://localhost:8080/"
        },
        "id": "C4-bx1FbfyL7",
        "outputId": "6eab261d-ef56-49d1-da5f-65dd98395106"
      },
      "execution_count": null,
      "outputs": [
        {
          "output_type": "stream",
          "name": "stdout",
          "text": [
            "1\n"
          ]
        }
      ]
    },
    {
      "cell_type": "code",
      "source": [
        "#print the largest value in a set?\n",
        "#print smallest value in tuple?\n",
        "myset={1,8,7,6,9}\n",
        "print(max(myset))\n",
        "print(min(myset))\n",
        "myset.remove(9)\n",
        "print(myset)"
      ],
      "metadata": {
        "colab": {
          "base_uri": "https://localhost:8080/"
        },
        "id": "EfAojBXigkMx",
        "outputId": "dd526e51-dffa-4b14-e913-2aad24a0e32e"
      },
      "execution_count": null,
      "outputs": [
        {
          "output_type": "stream",
          "name": "stdout",
          "text": [
            "9\n",
            "1\n",
            "{1, 6, 7, 8}\n"
          ]
        }
      ]
    },
    {
      "cell_type": "code",
      "source": [
        "myset=(1,8,7,6,9)\n",
        "print(max(myset))\n",
        "print(min(myset))"
      ],
      "metadata": {
        "colab": {
          "base_uri": "https://localhost:8080/"
        },
        "id": "znEvVL4Tg_0Y",
        "outputId": "89975831-9754-42c2-8092-1f8bf8f0e891"
      },
      "execution_count": null,
      "outputs": [
        {
          "output_type": "stream",
          "name": "stdout",
          "text": [
            "9\n",
            "1\n"
          ]
        }
      ]
    },
    {
      "cell_type": "code",
      "source": [
        "#create an input and take some random number and then sort them into two list as even and odd numbers\n",
        "def oddeven():\n",
        "  a=int(input(\"enter number of element in list \"))\n",
        "  p=[]\n",
        "  even=[]\n",
        "  odd=[]\n",
        "  for j in range(1,a+1):\n",
        "    k=int(input(\"enter \"))\n",
        "    p.append(k)\n",
        "  for i in p:\n",
        "    if (i%2 == 0):\n",
        "      even.append(i)\n",
        "    else:\n",
        "      odd.append(i)\n",
        "  print(odd)\n",
        "  print(even)\n",
        "\n",
        "oddeven()"
      ],
      "metadata": {
        "colab": {
          "base_uri": "https://localhost:8080/"
        },
        "id": "9AE_5_oNhSq9",
        "outputId": "76e16d0d-6aca-4d31-bd67-0732ebff7b07"
      },
      "execution_count": null,
      "outputs": [
        {
          "output_type": "stream",
          "name": "stdout",
          "text": [
            "enter number of element in list 4\n",
            "enter 3\n",
            "enter 4\n",
            "enter 5\n",
            "enter 6\n",
            "[3, 5]\n",
            "[4, 6]\n"
          ]
        }
      ]
    },
    {
      "cell_type": "code",
      "source": [
        "#Exception handling in python\n",
        "try:\n",
        "  print(c)#c is not declared\n",
        "except:\n",
        "  print(\"an error occured\")#instead for error display , except statement will proived a statement "
      ],
      "metadata": {
        "id": "_2WddUOMm43A",
        "colab": {
          "base_uri": "https://localhost:8080/"
        },
        "outputId": "1e071653-b39c-4977-bc88-2318250a996f"
      },
      "execution_count": null,
      "outputs": [
        {
          "output_type": "stream",
          "name": "stdout",
          "text": [
            "an error occured\n"
          ]
        }
      ]
    },
    {
      "cell_type": "code",
      "source": [
        "l=[1,23,4,5,238,50,7,9,]\n",
        "try:\n",
        "  print(l[2])\n",
        "  print(l[16])\n",
        "  print(l[6])#once it jumped to invalid clouse it won't jump back to the try statment\n",
        "except:\n",
        "  print(\"invalid index\")"
      ],
      "metadata": {
        "colab": {
          "base_uri": "https://localhost:8080/"
        },
        "id": "9WbdSdMPC8H0",
        "outputId": "a607b5bd-b158-4dd9-8217-5c145ecfaeb3"
      },
      "execution_count": null,
      "outputs": [
        {
          "output_type": "stream",
          "name": "stdout",
          "text": [
            "4\n",
            "invalid index\n"
          ]
        }
      ]
    },
    {
      "cell_type": "code",
      "source": [
        "import sys\n",
        "\n",
        "try:\n",
        "  x=open(\"a.txt\",\"r\")\n",
        "  print(x.read())\n",
        "except:\n",
        "  print(\"file does not exist\")\n",
        "finally:\n",
        "  print(\"the task is partially completed\")#finally clause the data will print for sure\n"
      ],
      "metadata": {
        "colab": {
          "base_uri": "https://localhost:8080/"
        },
        "id": "olNhhqM8D8j0",
        "outputId": "bd461eb4-fe0e-4b32-a90a-853f2fdf6dcf"
      },
      "execution_count": null,
      "outputs": [
        {
          "output_type": "stream",
          "name": "stdout",
          "text": [
            "hey \n",
            "hello world\n",
            "welcome to python the snake\n"
          ]
        }
      ]
    },
    {
      "cell_type": "code",
      "source": [
        "print(2/0)"
      ],
      "metadata": {
        "colab": {
          "base_uri": "https://localhost:8080/",
          "height": 165
        },
        "id": "GaYjHKsdFgyg",
        "outputId": "1c4f96fc-6e6c-404c-e22d-baeaa098fbf7"
      },
      "execution_count": null,
      "outputs": [
        {
          "output_type": "error",
          "ename": "ZeroDivisionError",
          "evalue": "ignored",
          "traceback": [
            "\u001b[0;31m---------------------------------------------------------------------------\u001b[0m",
            "\u001b[0;31mZeroDivisionError\u001b[0m                         Traceback (most recent call last)",
            "\u001b[0;32m<ipython-input-16-d2c0889640ff>\u001b[0m in \u001b[0;36m<module>\u001b[0;34m\u001b[0m\n\u001b[0;32m----> 1\u001b[0;31m \u001b[0mprint\u001b[0m\u001b[0;34m(\u001b[0m\u001b[0;36m2\u001b[0m\u001b[0;34m/\u001b[0m\u001b[0;36m0\u001b[0m\u001b[0;34m)\u001b[0m\u001b[0;34m\u001b[0m\u001b[0;34m\u001b[0m\u001b[0m\n\u001b[0m",
            "\u001b[0;31mZeroDivisionError\u001b[0m: division by zero"
          ]
        }
      ]
    },
    {
      "cell_type": "code",
      "source": [
        "print(2/\"2\")"
      ],
      "metadata": {
        "colab": {
          "base_uri": "https://localhost:8080/",
          "height": 165
        },
        "id": "17tiDyi1GJTZ",
        "outputId": "865dabd8-3ec1-4212-9669-bb73a0fd0035"
      },
      "execution_count": null,
      "outputs": [
        {
          "output_type": "error",
          "ename": "TypeError",
          "evalue": "ignored",
          "traceback": [
            "\u001b[0;31m---------------------------------------------------------------------------\u001b[0m",
            "\u001b[0;31mTypeError\u001b[0m                                 Traceback (most recent call last)",
            "\u001b[0;32m<ipython-input-17-f0c016b2a95c>\u001b[0m in \u001b[0;36m<module>\u001b[0;34m\u001b[0m\n\u001b[0;32m----> 1\u001b[0;31m \u001b[0mprint\u001b[0m\u001b[0;34m(\u001b[0m\u001b[0;36m2\u001b[0m\u001b[0;34m/\u001b[0m\u001b[0;34m\"2\"\u001b[0m\u001b[0;34m)\u001b[0m\u001b[0;34m\u001b[0m\u001b[0;34m\u001b[0m\u001b[0m\n\u001b[0m",
            "\u001b[0;31mTypeError\u001b[0m: unsupported operand type(s) for /: 'int' and 'str'"
          ]
        }
      ]
    },
    {
      "cell_type": "code",
      "source": [
        "try:\n",
        "  raise TypeError(\"abcd\")\n",
        "  raise ZeroDivisionError(2/0)\n",
        "except:\n",
        "  print(\"An error ocurred\")\n",
        "  raise"
      ],
      "metadata": {
        "colab": {
          "base_uri": "https://localhost:8080/",
          "height": 252
        },
        "id": "59lVS6fBGRQK",
        "outputId": "2c8b3973-a33c-4b57-84a3-a2e00a8c636b"
      },
      "execution_count": null,
      "outputs": [
        {
          "output_type": "stream",
          "name": "stdout",
          "text": [
            "An error ocurred\n"
          ]
        },
        {
          "output_type": "error",
          "ename": "TypeError",
          "evalue": "ignored",
          "traceback": [
            "\u001b[0;31m---------------------------------------------------------------------------\u001b[0m",
            "\u001b[0;31mTypeError\u001b[0m                                 Traceback (most recent call last)",
            "\u001b[0;32m<ipython-input-20-ba130fc69865>\u001b[0m in \u001b[0;36m<module>\u001b[0;34m\u001b[0m\n\u001b[1;32m      1\u001b[0m \u001b[0;32mtry\u001b[0m\u001b[0;34m:\u001b[0m\u001b[0;34m\u001b[0m\u001b[0;34m\u001b[0m\u001b[0m\n\u001b[0;32m----> 2\u001b[0;31m   \u001b[0;32mraise\u001b[0m \u001b[0mTypeError\u001b[0m\u001b[0;34m(\u001b[0m\u001b[0;34m\"abcd\"\u001b[0m\u001b[0;34m)\u001b[0m\u001b[0;34m\u001b[0m\u001b[0;34m\u001b[0m\u001b[0m\n\u001b[0m\u001b[1;32m      3\u001b[0m   \u001b[0;32mraise\u001b[0m \u001b[0mZeroDivisionError\u001b[0m\u001b[0;34m(\u001b[0m\u001b[0;36m2\u001b[0m\u001b[0;34m/\u001b[0m\u001b[0;36m0\u001b[0m\u001b[0;34m)\u001b[0m\u001b[0;34m\u001b[0m\u001b[0;34m\u001b[0m\u001b[0m\n\u001b[1;32m      4\u001b[0m \u001b[0;32mexcept\u001b[0m\u001b[0;34m:\u001b[0m\u001b[0;34m\u001b[0m\u001b[0;34m\u001b[0m\u001b[0m\n\u001b[1;32m      5\u001b[0m   \u001b[0mprint\u001b[0m\u001b[0;34m(\u001b[0m\u001b[0;34m\"An error ocurred\"\u001b[0m\u001b[0;34m)\u001b[0m\u001b[0;34m\u001b[0m\u001b[0;34m\u001b[0m\u001b[0m\n",
            "\u001b[0;31mTypeError\u001b[0m: abcd"
          ]
        }
      ]
    },
    {
      "cell_type": "code",
      "source": [
        "try:\n",
        "  raise ZeroDivisionError(2/0)\n",
        "except:\n",
        "  print(\"An error ocurred\")\n",
        "  raise"
      ],
      "metadata": {
        "colab": {
          "base_uri": "https://localhost:8080/",
          "height": 252
        },
        "id": "DX2nNwutG7kg",
        "outputId": "16e25777-3ba3-4657-dd63-efa508f6bee3"
      },
      "execution_count": null,
      "outputs": [
        {
          "output_type": "stream",
          "name": "stdout",
          "text": [
            "An error ocurred\n"
          ]
        },
        {
          "output_type": "error",
          "ename": "ZeroDivisionError",
          "evalue": "ignored",
          "traceback": [
            "\u001b[0;31m---------------------------------------------------------------------------\u001b[0m",
            "\u001b[0;31mZeroDivisionError\u001b[0m                         Traceback (most recent call last)",
            "\u001b[0;32m<ipython-input-21-b8ade6823994>\u001b[0m in \u001b[0;36m<module>\u001b[0;34m\u001b[0m\n\u001b[1;32m      1\u001b[0m \u001b[0;32mtry\u001b[0m\u001b[0;34m:\u001b[0m\u001b[0;34m\u001b[0m\u001b[0;34m\u001b[0m\u001b[0m\n\u001b[0;32m----> 2\u001b[0;31m   \u001b[0;32mraise\u001b[0m \u001b[0mZeroDivisionError\u001b[0m\u001b[0;34m(\u001b[0m\u001b[0;36m2\u001b[0m\u001b[0;34m/\u001b[0m\u001b[0;36m0\u001b[0m\u001b[0;34m)\u001b[0m\u001b[0;34m\u001b[0m\u001b[0;34m\u001b[0m\u001b[0m\n\u001b[0m\u001b[1;32m      3\u001b[0m \u001b[0;32mexcept\u001b[0m\u001b[0;34m:\u001b[0m\u001b[0;34m\u001b[0m\u001b[0;34m\u001b[0m\u001b[0m\n\u001b[1;32m      4\u001b[0m   \u001b[0mprint\u001b[0m\u001b[0;34m(\u001b[0m\u001b[0;34m\"An error ocurred\"\u001b[0m\u001b[0;34m)\u001b[0m\u001b[0;34m\u001b[0m\u001b[0;34m\u001b[0m\u001b[0m\n\u001b[1;32m      5\u001b[0m   \u001b[0;32mraise\u001b[0m\u001b[0;34m\u001b[0m\u001b[0;34m\u001b[0m\u001b[0m\n",
            "\u001b[0;31mZeroDivisionError\u001b[0m: division by zero"
          ]
        }
      ]
    },
    {
      "cell_type": "code",
      "source": [
        "x=5\n",
        "y=0\n",
        "try:\n",
        "  z=x/y\n",
        "except ZeroDivisionError:\n",
        "  print(\"y cannot be zero\")"
      ],
      "metadata": {
        "colab": {
          "base_uri": "https://localhost:8080/"
        },
        "id": "FxEIGa5wHDZp",
        "outputId": "8ed2b116-bafe-40c2-ff78-8935b3b9fab7"
      },
      "execution_count": null,
      "outputs": [
        {
          "output_type": "stream",
          "name": "stdout",
          "text": [
            "y cannot be zero\n"
          ]
        }
      ]
    },
    {
      "cell_type": "code",
      "source": [
        "#Comprehension -> the task can be implemented in a short and precise way\n",
        "#List Comprehension\n",
        "#Dictionary\n",
        "#Set\n",
        "#Genterator"
      ],
      "metadata": {
        "id": "obIipKJEHe1i"
      },
      "execution_count": null,
      "outputs": []
    },
    {
      "cell_type": "code",
      "source": [
        "#List\n",
        "l1=[1,2,3,4,5,6,7,8]\n"
      ],
      "metadata": {
        "id": "ZWGt3-c_H3l8"
      },
      "execution_count": null,
      "outputs": []
    },
    {
      "cell_type": "code",
      "source": [
        "evenlist=[]\n",
        "oddlist=[]\n",
        "for x in l1:\n",
        "  if x%2==0:\n",
        "    evenlist.append(x)\n",
        "  else:\n",
        "    oddlist.append(x)\n",
        "print(evenlist)\n",
        "print(oddlist)"
      ],
      "metadata": {
        "colab": {
          "base_uri": "https://localhost:8080/"
        },
        "id": "ls_QzRLtH9-p",
        "outputId": "858a6e69-7982-4dfa-a8bf-0baa6f40d599"
      },
      "execution_count": null,
      "outputs": [
        {
          "output_type": "stream",
          "name": "stdout",
          "text": [
            "[2, 4, 6, 8]\n",
            "[1, 3, 5, 7]\n"
          ]
        }
      ]
    },
    {
      "cell_type": "code",
      "source": [
        "#List Comprehension\n",
        "even=[value for value in l1 if value%2==0]\n",
        "print(\"even number\",even)\n",
        "odd=[value for value in l1 if value%2!=0]\n",
        "print(\"odd number\",odd)\n"
      ],
      "metadata": {
        "colab": {
          "base_uri": "https://localhost:8080/"
        },
        "id": "yEwI_clrH-Dt",
        "outputId": "a2d3360e-036a-4b48-cd0b-b850370ce6d5"
      },
      "execution_count": null,
      "outputs": [
        {
          "output_type": "stream",
          "name": "stdout",
          "text": [
            "even number [2, 4, 6, 8]\n",
            "odd number [1, 3, 5, 7]\n"
          ]
        }
      ]
    },
    {
      "cell_type": "code",
      "source": [
        "#Dictionary\n",
        "mydic={}\n",
        "for y in l1:\n",
        "  mydic[y]=y**2\n",
        "  print(mydic)"
      ],
      "metadata": {
        "colab": {
          "base_uri": "https://localhost:8080/"
        },
        "id": "5qUgxeOLKlNE",
        "outputId": "da25a6f4-158c-4848-9bd4-8b1f0dc02cd9"
      },
      "execution_count": null,
      "outputs": [
        {
          "output_type": "stream",
          "name": "stdout",
          "text": [
            "{1: 1}\n",
            "{1: 1, 2: 4}\n",
            "{1: 1, 2: 4, 3: 9}\n",
            "{1: 1, 2: 4, 3: 9, 4: 16}\n",
            "{1: 1, 2: 4, 3: 9, 4: 16, 5: 25}\n",
            "{1: 1, 2: 4, 3: 9, 4: 16, 5: 25, 6: 36}\n",
            "{1: 1, 2: 4, 3: 9, 4: 16, 5: 25, 6: 36, 7: 49}\n",
            "{1: 1, 2: 4, 3: 9, 4: 16, 5: 25, 6: 36, 7: 49, 8: 64}\n"
          ]
        }
      ]
    },
    {
      "cell_type": "code",
      "source": [
        "#Dictionary Comprehension\n",
        "mydic={i:i**2 for i in l1}\n",
        "print(mydic)"
      ],
      "metadata": {
        "colab": {
          "base_uri": "https://localhost:8080/"
        },
        "id": "xA5BaOxPLPpN",
        "outputId": "7e15d964-5b86-4a21-b1a5-52b9015fe412"
      },
      "execution_count": null,
      "outputs": [
        {
          "output_type": "stream",
          "name": "stdout",
          "text": [
            "{1: 1, 2: 4, 3: 9, 4: 16, 5: 25, 6: 36, 7: 49, 8: 64}\n"
          ]
        }
      ]
    },
    {
      "cell_type": "code",
      "source": [
        "#Set\n",
        "oddset=set()\n",
        "for x in l1:\n",
        " if x%2==0:\n",
        "      oddset.add(x)\n",
        "print(oddset)"
      ],
      "metadata": {
        "colab": {
          "base_uri": "https://localhost:8080/"
        },
        "id": "vEwgI_WpYwjV",
        "outputId": "3c85f822-238b-4165-c423-29cec54f9152"
      },
      "execution_count": null,
      "outputs": [
        {
          "output_type": "stream",
          "name": "stdout",
          "text": [
            "{8, 2, 4, 6}\n"
          ]
        }
      ]
    },
    {
      "cell_type": "code",
      "source": [
        "set={i for i in l1 if i%2==0}\n",
        "print(set)"
      ],
      "metadata": {
        "colab": {
          "base_uri": "https://localhost:8080/"
        },
        "id": "EuzYcrh8zANe",
        "outputId": "8d5d4f09-336c-4ea7-8fc7-a9d93d0a5326"
      },
      "execution_count": null,
      "outputs": [
        {
          "output_type": "stream",
          "name": "stdout",
          "text": [
            "{8, 2, 4, 6}\n"
          ]
        }
      ]
    },
    {
      "cell_type": "markdown",
      "source": [
        "CLASS 9"
      ],
      "metadata": {
        "id": "SGVvFGpS3-Gr"
      }
    },
    {
      "cell_type": "code",
      "source": [
        "#Generator -> generating the value(the value will be generated using the yield keywords)\n",
        "def gen(x):\n",
        "  print('The values are')\n",
        "  yield x+10-x\n",
        "  yield 10*x\n",
        "y=gen(2.4)\n",
        "print(next(y))# yield x+10-x\n",
        "print(next(y))#yield 10*x\n",
        "print(next(y))\n"
      ],
      "metadata": {
        "id": "wrgLIbbCZYjF"
      },
      "execution_count": null,
      "outputs": []
    },
    {
      "cell_type": "code",
      "source": [
        "def gen(x):\n",
        "  print('The values are')\n",
        "  yield x+10-x\n",
        "  yield 10*x\n",
        "for i in gen(2.4):\n",
        "  print(i)"
      ],
      "metadata": {
        "colab": {
          "base_uri": "https://localhost:8080/"
        },
        "id": "fnhM2Ll-PS3I",
        "outputId": "b49df7b7-3191-4c73-f865-831fde5592ea"
      },
      "execution_count": null,
      "outputs": [
        {
          "output_type": "stream",
          "name": "stdout",
          "text": [
            "The values are\n",
            "10.0\n",
            "24.0\n"
          ]
        }
      ]
    },
    {
      "cell_type": "code",
      "source": [
        "#Yield will be helping to generate a value\n",
        "#return will be sending the data back as a result\n",
        "\n",
        "#Difference\n",
        "#\tYield is generally used to convert a regular Python function into a generator.\n",
        "#Return is generally used for the end of the execution\n",
        "def a(b):\n",
        "  return b\n",
        "a(\"the task is completed\")"
      ],
      "metadata": {
        "id": "pt9pu3n1af9n",
        "colab": {
          "base_uri": "https://localhost:8080/",
          "height": 35
        },
        "outputId": "2f6a451b-9936-4a9b-a51f-7063340f2b72"
      },
      "execution_count": null,
      "outputs": [
        {
          "output_type": "execute_result",
          "data": {
            "text/plain": [
              "'the task is completed'"
            ],
            "application/vnd.google.colaboratory.intrinsic+json": {
              "type": "string"
            }
          },
          "metadata": {},
          "execution_count": 4
        }
      ]
    },
    {
      "cell_type": "code",
      "source": [
        "def avg(a,b):\n",
        "    return (a+b)/2\n",
        "avg(2,5)"
      ],
      "metadata": {
        "colab": {
          "base_uri": "https://localhost:8080/"
        },
        "id": "UGlw7XNdXFBN",
        "outputId": "3cb1c34c-0155-41f1-aa20-dc557b70ecd8"
      },
      "execution_count": null,
      "outputs": [
        {
          "output_type": "execute_result",
          "data": {
            "text/plain": [
              "3.5"
            ]
          },
          "metadata": {},
          "execution_count": 5
        }
      ]
    },
    {
      "cell_type": "code",
      "source": [
        "#Lambda Function -> anonymous function\n",
        "#It is a function that does not have any name associated with it. Normally we use the function keyword before the function name to define a function in JavaScript, however, in anonymous functions in JavaScript, we use only the function keyword without the function name.\n",
        "x=lambda  x:x+10\n",
        "print(x(10))"
      ],
      "metadata": {
        "colab": {
          "base_uri": "https://localhost:8080/"
        },
        "id": "czQmsy4jcXD2",
        "outputId": "d8104520-6401-47e4-c25e-776c01eb99f5"
      },
      "execution_count": null,
      "outputs": [
        {
          "output_type": "stream",
          "name": "stdout",
          "text": [
            "20\n"
          ]
        }
      ]
    },
    {
      "cell_type": "code",
      "source": [
        "x=lambda x,y,z:x+y+z\n",
        "print(x(10,20,30))"
      ],
      "metadata": {
        "colab": {
          "base_uri": "https://localhost:8080/"
        },
        "id": "yfInSHS034CN",
        "outputId": "04adb39a-9f35-4689-da17-eef3eae9d3c6"
      },
      "execution_count": null,
      "outputs": [
        {
          "output_type": "stream",
          "name": "stdout",
          "text": [
            "60\n"
          ]
        }
      ]
    },
    {
      "cell_type": "code",
      "source": [
        "print((lambda x,y,z:x+y+z) (10,20,30))"
      ],
      "metadata": {
        "colab": {
          "base_uri": "https://localhost:8080/"
        },
        "id": "YIwLBUc-67d2",
        "outputId": "ea2a6dac-dca6-4366-93ef-0c1489f157a2"
      },
      "execution_count": null,
      "outputs": [
        {
          "output_type": "stream",
          "name": "stdout",
          "text": [
            "60\n"
          ]
        }
      ]
    },
    {
      "cell_type": "code",
      "source": [
        "x1=[lambda x=x:x*10 for x in range(1,11)]\n",
        "          #parameter:exprestion\n",
        "for i in x1:\n",
        "  print(i())#not assigning value\n"
      ],
      "metadata": {
        "colab": {
          "base_uri": "https://localhost:8080/"
        },
        "id": "kglLl_qC7eaj",
        "outputId": "c3cfb680-ef3b-4fee-d8f6-1190b4009be2"
      },
      "execution_count": null,
      "outputs": [
        {
          "output_type": "stream",
          "name": "stdout",
          "text": [
            "10\n",
            "20\n",
            "30\n",
            "40\n",
            "50\n",
            "60\n",
            "70\n",
            "80\n",
            "90\n",
            "100\n"
          ]
        }
      ]
    },
    {
      "cell_type": "code",
      "source": [
        "x1=[lambda x:x*10 for x in range(1,11)]\n",
        "for i in x1:\n",
        "  print(i(8))#assigning value"
      ],
      "metadata": {
        "colab": {
          "base_uri": "https://localhost:8080/"
        },
        "id": "iQwHPudO9vr4",
        "outputId": "1cdafe22-dab6-49dc-c472-23ba6f40d772"
      },
      "execution_count": null,
      "outputs": [
        {
          "output_type": "stream",
          "name": "stdout",
          "text": [
            "80\n",
            "80\n",
            "80\n",
            "80\n",
            "80\n",
            "80\n",
            "80\n",
            "80\n",
            "80\n",
            "80\n"
          ]
        }
      ]
    },
    {
      "cell_type": "code",
      "source": [
        "y=lambda a,b:a if(a>b) else b\n",
        "print(y(9,8))\n",
        "print(y(1,2))"
      ],
      "metadata": {
        "colab": {
          "base_uri": "https://localhost:8080/"
        },
        "id": "3gWekvUJ81Mg",
        "outputId": "12c18f25-2188-4ca5-84eb-951f820a7e81"
      },
      "execution_count": null,
      "outputs": [
        {
          "output_type": "stream",
          "name": "stdout",
          "text": [
            "9\n",
            "2\n"
          ]
        }
      ]
    },
    {
      "cell_type": "code",
      "source": [
        "y=lambda a,b:a if(a>b) else b\n",
        "a,b=[int(n) for n in input(\"enter two number\").split(',')]\n",
        "print(\"largest among two is:\",y(a,b))"
      ],
      "metadata": {
        "colab": {
          "base_uri": "https://localhost:8080/"
        },
        "id": "Lo4yIea3-9dg",
        "outputId": "78bc6086-de08-43d9-b72c-01c7cf557a83"
      },
      "execution_count": null,
      "outputs": [
        {
          "output_type": "stream",
          "name": "stdout",
          "text": [
            "enter two number7,2\n",
            "largest among two is: 7\n"
          ]
        }
      ]
    },
    {
      "cell_type": "code",
      "source": [
        "#String Formating\n",
        "\n",
        "#1.operators\n",
        "print(\"hello %s, welcom all\"%\"class\")#Set of strings\n",
        "    #additional string      #what additional value to enter"
      ],
      "metadata": {
        "colab": {
          "base_uri": "https://localhost:8080/"
        },
        "id": "sH4B7D72HrIh",
        "outputId": "6b0a59c8-1802-4449-8cf5-fdae4afc5b1d"
      },
      "execution_count": null,
      "outputs": [
        {
          "output_type": "stream",
          "name": "stdout",
          "text": [
            "hello class, welcom all\n"
          ]
        }
      ]
    },
    {
      "cell_type": "code",
      "source": [
        "print(\"Hello %s,welcome %s\"%(\"class\\n\",\"all\"))"
      ],
      "metadata": {
        "colab": {
          "base_uri": "https://localhost:8080/"
        },
        "id": "ow6UfYVDINqE",
        "outputId": "562ff7d3-c49a-4750-8d5f-ef70ce250466"
      },
      "execution_count": null,
      "outputs": [
        {
          "output_type": "stream",
          "name": "stdout",
          "text": [
            "Hello class\n",
            ",welcome all\n"
          ]
        }
      ]
    },
    {
      "cell_type": "code",
      "source": [
        "#2.format\n",
        "print(\"Hello {1},welcome {0}\" .format(\"class\\n\",\"all\"))\n",
        "print(\"Hello {1},welcome {1}\" .format(\"class\\n\",\"all\"))"
      ],
      "metadata": {
        "colab": {
          "base_uri": "https://localhost:8080/"
        },
        "id": "xB2lWariJCxy",
        "outputId": "bfe04f1d-d863-4101-a4b9-add11cc725ea"
      },
      "execution_count": null,
      "outputs": [
        {
          "output_type": "stream",
          "name": "stdout",
          "text": [
            "Hello all,welcome class\n",
            "\n",
            "Hello all,welcome all\n"
          ]
        }
      ]
    },
    {
      "cell_type": "markdown",
      "source": [
        "CLASS 10"
      ],
      "metadata": {
        "id": "oBNlKxR2KALX"
      }
    },
    {
      "cell_type": "code",
      "source": [
        "print(\"%(complete)s is a %(department)s\" %{'complete':'gfg','department':'cs'})\n"
      ],
      "metadata": {
        "id": "fVZm6h1hJD9j",
        "colab": {
          "base_uri": "https://localhost:8080/"
        },
        "outputId": "b62b3cc1-81fd-4a4d-e548-db85d82df263"
      },
      "execution_count": null,
      "outputs": [
        {
          "output_type": "stream",
          "name": "stdout",
          "text": [
            "gfg is a cs\n"
          ]
        }
      ]
    },
    {
      "cell_type": "code",
      "source": [
        "gpoint={'latitude':45.243,'gratitude':50.796}\n",
        "print(\"{latitude} {gratitude}\".format(**gpoint))"
      ],
      "metadata": {
        "id": "JfxPiimxJEAH",
        "colab": {
          "base_uri": "https://localhost:8080/"
        },
        "outputId": "f5f9b0be-fe01-4a8b-cd99-2c0d9f9f6962"
      },
      "execution_count": null,
      "outputs": [
        {
          "output_type": "stream",
          "name": "stdout",
          "text": [
            "45.243 50.796\n"
          ]
        }
      ]
    },
    {
      "cell_type": "code",
      "source": [
        "print('hello: {a}'.format(a=\"Tom\"))"
      ],
      "metadata": {
        "id": "8FBxc988JEDd",
        "colab": {
          "base_uri": "https://localhost:8080/"
        },
        "outputId": "42bc70bb-f7d0-44e4-abff-ff0083e92de5"
      },
      "execution_count": null,
      "outputs": [
        {
          "output_type": "stream",
          "name": "stdout",
          "text": [
            "hello: Tom\n"
          ]
        }
      ]
    },
    {
      "cell_type": "code",
      "source": [
        "#3.fstring--> embeding a value indide a string literals\n",
        "num1=\"10\"\n",
        "num2=\"20\"\n",
        "print(\"string\"+num1+num2)"
      ],
      "metadata": {
        "id": "u_OnOtlQJEHT",
        "colab": {
          "base_uri": "https://localhost:8080/"
        },
        "outputId": "55b38610-b7b1-4157-9f82-3ee237863e40"
      },
      "execution_count": null,
      "outputs": [
        {
          "output_type": "stream",
          "name": "stdout",
          "text": [
            "string1020\n"
          ]
        }
      ]
    },
    {
      "cell_type": "code",
      "source": [
        "num1=10\n",
        "num2=20\n",
        "print(f\"string {num1+num2}\")"
      ],
      "metadata": {
        "id": "VCQwbt6qJEKF",
        "colab": {
          "base_uri": "https://localhost:8080/"
        },
        "outputId": "48328b28-fe20-4001-a968-cb6031ff2303"
      },
      "execution_count": null,
      "outputs": [
        {
          "output_type": "stream",
          "name": "stdout",
          "text": [
            "string 30\n"
          ]
        }
      ]
    },
    {
      "cell_type": "code",
      "source": [
        "a=10**3\n",
        "print(f\"a is equals to {a}\")"
      ],
      "metadata": {
        "id": "HGWqLlpiJEQo",
        "colab": {
          "base_uri": "https://localhost:8080/"
        },
        "outputId": "9ef887e4-da5b-4887-d283-532120bd6784"
      },
      "execution_count": null,
      "outputs": [
        {
          "output_type": "stream",
          "name": "stdout",
          "text": [
            "a is equals to 1000\n"
          ]
        }
      ]
    },
    {
      "cell_type": "code",
      "source": [
        "#Assignment 3\n",
        "#Create a Assignment on string templete class"
      ],
      "metadata": {
        "id": "cxc4lGUmJEMj"
      },
      "execution_count": null,
      "outputs": []
    },
    {
      "cell_type": "code",
      "source": [
        "#Modules -> a file containing Python definitions and statements. \n",
        "#A module can define functions, classes, and variables.\n",
        "# A module can also include runnable code. \n",
        "#Grouping related code into a module makes the code easier to understand and use. \n",
        "#It also makes the code logically organized.\n"
      ],
      "metadata": {
        "id": "VIfeeQLbJEOu"
      },
      "execution_count": null,
      "outputs": []
    },
    {
      "cell_type": "code",
      "source": [
        "#Builtin module --> code is already been dupmed\n",
        "#math lib\n",
        "import math\n",
        "print(math.pi)\n",
        "print(math.sin(1))"
      ],
      "metadata": {
        "id": "nG4jL-JcJEWg",
        "colab": {
          "base_uri": "https://localhost:8080/"
        },
        "outputId": "be6cc327-b34a-48e1-cb18-dac9a1c078be"
      },
      "execution_count": null,
      "outputs": [
        {
          "output_type": "stream",
          "name": "stdout",
          "text": [
            "3.141592653589793\n",
            "0.8414709848078965\n"
          ]
        }
      ]
    },
    {
      "cell_type": "code",
      "source": [
        "import datetime\n",
        "print(datetime.datetime.now())\n"
      ],
      "metadata": {
        "colab": {
          "base_uri": "https://localhost:8080/"
        },
        "id": "2t3dKVEdRU3B",
        "outputId": "1f3fc249-ac32-4ccb-89fa-f56d87f6c221"
      },
      "execution_count": null,
      "outputs": [
        {
          "output_type": "stream",
          "name": "stdout",
          "text": [
            "2023-02-11 21:02:26.658139\n"
          ]
        }
      ]
    },
    {
      "cell_type": "code",
      "source": [
        "from datetime import datetime as date\n",
        "print(datetime.datetime.now())"
      ],
      "metadata": {
        "colab": {
          "base_uri": "https://localhost:8080/"
        },
        "id": "YVYElH8mRoHg",
        "outputId": "1f2fe871-5ec2-438a-b634-ac495f37d25f"
      },
      "execution_count": null,
      "outputs": [
        {
          "output_type": "stream",
          "name": "stdout",
          "text": [
            "2023-02-11 21:02:28.956995\n"
          ]
        }
      ]
    },
    {
      "cell_type": "code",
      "source": [
        "from datetime import datetime as date\n",
        "b=date.now()\n",
        "a=b.strftime('%A')#weekDay\n",
        "print(a)"
      ],
      "metadata": {
        "colab": {
          "base_uri": "https://localhost:8080/"
        },
        "id": "8oOtGiG9Sfny",
        "outputId": "a67da0f5-b9aa-425f-8440-7dd1efdda38d"
      },
      "execution_count": null,
      "outputs": [
        {
          "output_type": "stream",
          "name": "stdout",
          "text": [
            "Saturday\n"
          ]
        }
      ]
    },
    {
      "cell_type": "code",
      "source": [
        "from datetime import datetime as date\n",
        "b=date.now()\n",
        "a=b.strftime('%m')#month\n",
        "print(a)\n",
        "c=b.strftime('%M')#month\n",
        "print(c)\n",
        "c=b.strftime('%B')#weekdays\n",
        "print(c)\n"
      ],
      "metadata": {
        "colab": {
          "base_uri": "https://localhost:8080/"
        },
        "id": "gUjoWAgETddl",
        "outputId": "912d2d3b-4a8d-41fc-ff92-32f238302673"
      },
      "execution_count": null,
      "outputs": [
        {
          "output_type": "stream",
          "name": "stdout",
          "text": [
            "02\n",
            "24\n",
            "February\n"
          ]
        }
      ]
    },
    {
      "cell_type": "code",
      "source": [
        "#User defined lib\n",
        "import module1\n",
        "module1.a(\"Tom\",\"Goodevening\")"
      ],
      "metadata": {
        "colab": {
          "base_uri": "https://localhost:8080/"
        },
        "id": "vUj-jes6UHDq",
        "outputId": "676f2de1-c728-4128-9b52-0cb6b7024bc6"
      },
      "execution_count": null,
      "outputs": [
        {
          "output_type": "stream",
          "name": "stdout",
          "text": [
            "Goodevening Tom\n"
          ]
        }
      ]
    },
    {
      "cell_type": "code",
      "source": [
        "#Custom library"
      ],
      "metadata": {
        "id": "zxFqzOU-RHfc"
      },
      "execution_count": null,
      "outputs": []
    },
    {
      "cell_type": "code",
      "source": [
        "#Regular Expression -> is a sequence of character that forms a search patterns\n",
        "#Search \n",
        "\n",
        "import re\n",
        "a=\"hello,your welcome\"\n"
      ],
      "metadata": {
        "id": "fGhM4p0FXuK8"
      },
      "execution_count": null,
      "outputs": []
    },
    {
      "cell_type": "code",
      "source": [
        "b=re.search(\"your\",a)\n",
        "print(\"Starting Index Number\",b.start())\n",
        "print(\"Ending index number\",b.end())\n",
        "print(b.group())\n",
        "print(b.span())"
      ],
      "metadata": {
        "colab": {
          "base_uri": "https://localhost:8080/"
        },
        "id": "HBzqbYjGY_Pj",
        "outputId": "e13a0546-dfd8-48d6-9c2d-9a327b36be02"
      },
      "execution_count": null,
      "outputs": [
        {
          "output_type": "stream",
          "name": "stdout",
          "text": [
            "Starting Index Number 6\n",
            "Ending index number 10\n",
            "your\n",
            "(6, 10)\n"
          ]
        }
      ]
    },
    {
      "cell_type": "code",
      "source": [
        "print(a[6:10])"
      ],
      "metadata": {
        "colab": {
          "base_uri": "https://localhost:8080/"
        },
        "id": "HTso6-z9ZqIX",
        "outputId": "92c5f915-2c83-48d0-c21d-48a57d209e08"
      },
      "execution_count": null,
      "outputs": [
        {
          "output_type": "stream",
          "name": "stdout",
          "text": [
            "your\n"
          ]
        }
      ]
    },
    {
      "cell_type": "code",
      "source": [
        "#Sub-> replacing the whiteSpace with number or a character\n",
        "import re\n",
        "a=\"hello, your welcome\"\n",
        "c=re.sub(\"\\s\",\"$\",a)\n",
        "print(c)"
      ],
      "metadata": {
        "colab": {
          "base_uri": "https://localhost:8080/"
        },
        "id": "lRbcrhGdaHHN",
        "outputId": "d4c47821-fdab-48da-de98-2024233062ee"
      },
      "execution_count": null,
      "outputs": [
        {
          "output_type": "stream",
          "name": "stdout",
          "text": [
            "hello,$your$welcome\n"
          ]
        }
      ]
    },
    {
      "cell_type": "code",
      "source": [
        "d=\"hello, your welcome\"\n",
        "e=re.split(\"\\s\",d)#s-> for string\n",
        "print(e)"
      ],
      "metadata": {
        "colab": {
          "base_uri": "https://localhost:8080/"
        },
        "id": "rmxCXM8QaqAF",
        "outputId": "4f04024d-83c5-4fdb-d20f-4e192695c2e5"
      },
      "execution_count": null,
      "outputs": [
        {
          "output_type": "stream",
          "name": "stdout",
          "text": [
            "['hello,', 'your', 'welcome']\n",
            "['hello,', 'your', 'welcome']\n"
          ]
        }
      ]
    },
    {
      "cell_type": "code",
      "source": [
        "data=\"welcome all 123456\"\n",
        "match1=re.findall(\"\\d\",data)#d -> for digit in a variable\n",
        "print(match1)\n",
        "match1=re.findall(\"\\d+\",data)\n",
        "print(match1)"
      ],
      "metadata": {
        "colab": {
          "base_uri": "https://localhost:8080/"
        },
        "id": "xvBH99QNbYTG",
        "outputId": "ee76983a-4234-477b-dff6-09c36228aee0"
      },
      "execution_count": null,
      "outputs": [
        {
          "output_type": "stream",
          "name": "stdout",
          "text": [
            "['1', '2', '3', '4', '5', '6']\n",
            "['123456']\n"
          ]
        }
      ]
    },
    {
      "cell_type": "markdown",
      "source": [
        "OOPS CLASS"
      ],
      "metadata": {
        "id": "597-7Lbvcm06"
      }
    },
    {
      "cell_type": "markdown",
      "source": [
        "OOPS --> object oriented programming language\n",
        "fewfundamentals concepts:-\n",
        "1.Class\n",
        "2.Object\n",
        "3.Inheritance\n",
        "4.encapsulation\n",
        "5.polymorphism\n",
        "7.Data Abstraction"
      ],
      "metadata": {
        "id": "aJTdd6DnLXhZ"
      }
    },
    {
      "cell_type": "code",
      "source": [
        "#1.CLASS->blueprint of the object"
      ],
      "metadata": {
        "id": "nAFwSB6XcOiZ"
      },
      "execution_count": null,
      "outputs": []
    },
    {
      "cell_type": "code",
      "source": [
        "class mylaptop():  #class is a keyword which will help us to create a CLASS\n",
        "  #attribute->a variable defined under a class and that can be shared by all object of the class\n",
        "   processor=\"Intel i5\"#attribute are always public and can accessed using dot obj1.processor \n",
        "   display=\"Full HD\"\n",
        "   #instance attribute-> is a variable  that belongs to only one objects\n",
        "   def __init__(self,color):#__init__ -> it is a constructor in a class.[it is used to initialize the instance variable].{it is automatically called when object of a class is created}\n",
        "     #self meaning only mylaptop() class\n",
        "     self.color=color\n",
        "   def a(self):\n",
        "     print(\"hello and welcome\")\n",
        "     \n",
        "\n",
        "mylaptop.processor=\"Inteli7\" #modification applied to entire class"
      ],
      "metadata": {
        "id": "pT8ImKlTKj_q"
      },
      "execution_count": null,
      "outputs": []
    },
    {
      "cell_type": "code",
      "source": [
        "obj1=mylaptop(\"Red\") #object is instance of the class\n",
        "obj2=mylaptop(\"blue\")#\"blue\" is an argument\n",
        "obj3=mylaptop(\"green\")\n",
        "\n",
        "obj3.processor=\"pentium\" #modification only for object not for entire class\n",
        "print(obj1.processor)\n",
        "print(obj2.display)\n",
        "print(obj3.processor)\n",
        "print(obj3.color)\n",
        "\n",
        "obj1.a()"
      ],
      "metadata": {
        "colab": {
          "base_uri": "https://localhost:8080/"
        },
        "id": "gNXF97PAKkI1",
        "outputId": "8dbc9002-6d56-44f2-9d24-e54f87279d1a"
      },
      "execution_count": null,
      "outputs": [
        {
          "output_type": "stream",
          "name": "stdout",
          "text": [
            "Inteli7\n",
            "Full HD\n",
            "pentium\n",
            "green\n",
            "hello and welcome\n"
          ]
        }
      ]
    },
    {
      "cell_type": "code",
      "source": [
        "#Inheritance \n",
        "class mymobile(mylaptop):#mymobile is a subclass inheriting the parent class (mylaptop)\n",
        "  def __init__(self,color,camera):\n",
        "    self.camera=camera\n",
        "    mylaptop .__init__(self,color)\n"
      ],
      "metadata": {
        "id": "yvMWCYGLKkKr"
      },
      "execution_count": null,
      "outputs": []
    },
    {
      "cell_type": "code",
      "source": [
        "object1=mymobile(\"white\",\"HP\")\n",
        "print(object1.processor)\n",
        "print(object1.camera)"
      ],
      "metadata": {
        "colab": {
          "base_uri": "https://localhost:8080/"
        },
        "id": "lT9XqHcwKkQJ",
        "outputId": "e2ac1fa1-1c77-4d26-cdc4-331fbdf60a45"
      },
      "execution_count": null,
      "outputs": [
        {
          "output_type": "stream",
          "name": "stdout",
          "text": [
            "Inteli7\n",
            "HP\n"
          ]
        }
      ]
    },
    {
      "cell_type": "code",
      "source": [
        "#Encapsulation-> hide the data or bundle the data inside one single unit\n",
        "#1.private, #2.public\n",
        "#Encapsulation is a process of protecting a data or functionality of class from a object \n",
        "class data():\n",
        "  def __init__(a,username,passwd):\n",
        "    a.username=username\n",
        "    a.__passwd=passwd# '__'prefix to make a data Private entity,\"_\" prefix to make a data Protected\n",
        "  def access(a):\n",
        "    print(a.__passwd)"
      ],
      "metadata": {
        "id": "qyaPFJ-LKkSC"
      },
      "execution_count": null,
      "outputs": []
    },
    {
      "cell_type": "code",
      "source": [
        "obj=data(\"Admin\",\"pass123\")\n",
        "print(obj.username)\n",
        "obj.access()"
      ],
      "metadata": {
        "colab": {
          "base_uri": "https://localhost:8080/"
        },
        "id": "bBKJ80KdKkVN",
        "outputId": "b17c84f5-ff0a-496a-9e38-e4ab96502651"
      },
      "execution_count": null,
      "outputs": [
        {
          "output_type": "stream",
          "name": "stdout",
          "text": [
            "Admin\n",
            "pass123\n"
          ]
        }
      ]
    },
    {
      "cell_type": "code",
      "source": [
        "#Polymorphism -> many forms\n",
        "class Bird():\n",
        "  def intro(self):\n",
        "    print(\"some of the birds can fly\")\n",
        "  def fly(self):\n",
        "    print(\"most of the birds can't fly\")"
      ],
      "metadata": {
        "id": "Ls9YlMC0KkXv"
      },
      "execution_count": null,
      "outputs": []
    },
    {
      "cell_type": "code",
      "source": [
        "class parrot(Bird):\n",
        "  def fly(self):\n",
        "    print(\"parrot can fly\")\n",
        "class penguin(Bird):\n",
        "  def fly(self):\n",
        "    print(\"Penguin can't fly\")"
      ],
      "metadata": {
        "id": "NHh52jF1KkZ-"
      },
      "execution_count": null,
      "outputs": []
    },
    {
      "cell_type": "code",
      "source": [
        "obj1=Bird()\n",
        "obj2=parrot()\n",
        "obj3=penguin()\n",
        "obj1.fly()\n",
        "obj2.fly()\n",
        "obj3.fly()"
      ],
      "metadata": {
        "colab": {
          "base_uri": "https://localhost:8080/"
        },
        "id": "Xg8z4qtiKkcH",
        "outputId": "c2da012b-a3f3-4fe2-d8cd-3400d130ec82"
      },
      "execution_count": null,
      "outputs": [
        {
          "output_type": "stream",
          "name": "stdout",
          "text": [
            "most of the birds can't fly\n",
            "parrot can fly\n",
            "Penguin can't fly\n"
          ]
        }
      ]
    },
    {
      "cell_type": "code",
      "source": [],
      "metadata": {
        "id": "J-p6fHMte2PT"
      },
      "execution_count": null,
      "outputs": []
    },
    {
      "cell_type": "markdown",
      "source": [
        "Class 12"
      ],
      "metadata": {
        "id": "fcHY1EowexOV"
      }
    },
    {
      "cell_type": "code",
      "source": [
        "#Python Decorators -> will allow users to modify or add new functionality to an existing object without modifying the structure\n",
        "def greet():\n",
        "  print(\"Good Evening\")\n",
        "greet()"
      ],
      "metadata": {
        "colab": {
          "base_uri": "https://localhost:8080/"
        },
        "id": "ZvwODWZqKkfY",
        "outputId": "cce0ea34-7259-4a31-e529-c72ead4ff0f7"
      },
      "execution_count": null,
      "outputs": [
        {
          "output_type": "stream",
          "name": "stdout",
          "text": [
            "Good Evening\n"
          ]
        }
      ]
    },
    {
      "cell_type": "code",
      "source": [
        "greetme=greet() #using the \n",
        "greetme"
      ],
      "metadata": {
        "colab": {
          "base_uri": "https://localhost:8080/"
        },
        "id": "vPejnSzafarl",
        "outputId": "75e6ef2d-b82a-4f07-f4c5-a393e0d580b5"
      },
      "execution_count": null,
      "outputs": [
        {
          "output_type": "stream",
          "name": "stdout",
          "text": [
            "Good Evening\n"
          ]
        }
      ]
    },
    {
      "cell_type": "code",
      "source": [
        "def increment(num1):\n",
        "  return num1+10\n",
        "def decrement(num1):\n",
        "  return num1-10"
      ],
      "metadata": {
        "id": "Y6LIfAYB1I6x"
      },
      "execution_count": null,
      "outputs": []
    },
    {
      "cell_type": "code",
      "source": [
        "def incdec(func,num1):\n",
        "  result=func(num1)\n",
        "  return result\n",
        "\n",
        "incdec(decrement,7)"
      ],
      "metadata": {
        "colab": {
          "base_uri": "https://localhost:8080/"
        },
        "id": "ZTccrVki1I9B",
        "outputId": "5c517409-c26c-4550-bd8f-32d39f8efe21"
      },
      "execution_count": null,
      "outputs": [
        {
          "output_type": "execute_result",
          "data": {
            "text/plain": [
              "-3"
            ]
          },
          "metadata": {},
          "execution_count": 12
        }
      ]
    },
    {
      "cell_type": "code",
      "source": [
        "def simple():\n",
        "  print(\"hello and welcome all\")"
      ],
      "metadata": {
        "id": "y5ybeleO1I_e"
      },
      "execution_count": null,
      "outputs": []
    },
    {
      "cell_type": "code",
      "source": [
        "def special(func):\n",
        "  def a():\n",
        "    print(\"introduction to python decorators\")\n",
        "    func()\n",
        "  return a()\n",
        "special(simple)"
      ],
      "metadata": {
        "colab": {
          "base_uri": "https://localhost:8080/"
        },
        "id": "_LlscaQY1JCq",
        "outputId": "9bea461b-1116-4624-cbd3-ecab6171e3cb"
      },
      "execution_count": null,
      "outputs": [
        {
          "output_type": "stream",
          "name": "stdout",
          "text": [
            "introduction to python decorators\n",
            "hello and welcome all\n"
          ]
        }
      ]
    },
    {
      "cell_type": "code",
      "source": [],
      "metadata": {
        "id": "llmPKY4s3RuK"
      },
      "execution_count": null,
      "outputs": []
    },
    {
      "cell_type": "code",
      "source": [],
      "metadata": {
        "id": "tDPZ_ZBX3Rw2"
      },
      "execution_count": null,
      "outputs": []
    },
    {
      "cell_type": "code",
      "source": [],
      "metadata": {
        "id": "PD4W3xE53Ry8"
      },
      "execution_count": null,
      "outputs": []
    },
    {
      "cell_type": "code",
      "source": [],
      "metadata": {
        "id": "mBauvGRg3R1u"
      },
      "execution_count": null,
      "outputs": []
    },
    {
      "cell_type": "code",
      "source": [],
      "metadata": {
        "id": "yzkcNsPh3R4L"
      },
      "execution_count": null,
      "outputs": []
    },
    {
      "cell_type": "code",
      "source": [],
      "metadata": {
        "id": "ufi6yhwb3R8r"
      },
      "execution_count": null,
      "outputs": []
    },
    {
      "cell_type": "code",
      "source": [
        "import time\n",
        "\n",
        "print(\"Enter the number of seconds for the timer: \", end=\"\")\n",
        "seconds = int(input())\n",
        "\n",
        "for i in range(seconds, 0, -1):\n",
        "    print(i, end=\" \")\n",
        "    time.sleep(1)\n",
        "\n",
        "print(\"\\nTime's up!\")"
      ],
      "metadata": {
        "colab": {
          "base_uri": "https://localhost:8080/"
        },
        "id": "BYSUsneRhbPZ",
        "outputId": "34c7ea16-d4f0-4f24-f4d3-ef38babd7e62"
      },
      "execution_count": null,
      "outputs": [
        {
          "output_type": "stream",
          "name": "stdout",
          "text": [
            "Enter the number of seconds for the timer: 7\n",
            "7 6 5 4 3 2 1 \n",
            "Time's up!\n"
          ]
        }
      ]
    }
  ]
}