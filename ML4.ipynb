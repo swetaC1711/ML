{
  "nbformat": 4,
  "nbformat_minor": 0,
  "metadata": {
    "colab": {
      "provenance": [],
      "include_colab_link": true
    },
    "kernelspec": {
      "name": "python3",
      "display_name": "Python 3"
    },
    "language_info": {
      "name": "python"
    }
  },
  "cells": [
    {
      "cell_type": "markdown",
      "metadata": {
        "id": "view-in-github",
        "colab_type": "text"
      },
      "source": [
        "<a href=\"https://colab.research.google.com/github/swetaC1711/ML/blob/main/ML4.ipynb\" target=\"_parent\"><img src=\"https://colab.research.google.com/assets/colab-badge.svg\" alt=\"Open In Colab\"/></a>"
      ]
    },
    {
      "cell_type": "code",
      "execution_count": null,
      "metadata": {
        "id": "LFSnPvPzGAnS"
      },
      "outputs": [],
      "source": [
        "#MACHINE LEARNING - SUPERVISED LEARNING - REGRESSION - LINEAR REGRESSION\n",
        "#Univariate/Single Linear Regresion - 1 column as input and 1 column as output\n",
        "#Multivariate/multiple Linear Regression  - Multiple columns as input and 1 column as output"
      ]
    },
    {
      "cell_type": "code",
      "source": [
        "#Dataset - https://raw.githubusercontent.com/ameenmanna8824/DATASETS/main/areavsprices.csv"
      ],
      "metadata": {
        "id": "5ut1jMPkJJLi"
      },
      "execution_count": null,
      "outputs": []
    },
    {
      "cell_type": "code",
      "source": [
        "#1.Take the data and create dataframe\n",
        "import pandas as pd\n",
        "df = pd.read_csv('https://raw.githubusercontent.com/ameenmanna8824/DATASETS/main/areavsprices.csv')\n",
        "df\n",
        "#Area is Square Feet ,#Prices is in Rupees\n",
        "#IMAGINARY STORY - Imagine a property broker comes to you and gives you the below dataset\n",
        "#and says create a model for me ,which could predict the property prices based on the data I gave"
      ],
      "metadata": {
        "colab": {
          "base_uri": "https://localhost:8080/",
          "height": 238
        },
        "id": "yhCPYLtxJjT9",
        "outputId": "d46144ca-28fc-4b58-cf2c-b7cf6e19a2b5"
      },
      "execution_count": null,
      "outputs": [
        {
          "output_type": "execute_result",
          "data": {
            "text/plain": [
              "   Area   Prices\n",
              "0  1000   550000\n",
              "1  1500   800000\n",
              "2  1800  1050000\n",
              "3  2400  1240000\n",
              "4  3000  1400000\n",
              "5  3500  1650000"
            ],
            "text/html": [
              "\n",
              "  <div id=\"df-f79b1047-ebf9-4cc7-9749-0979ca2107d8\">\n",
              "    <div class=\"colab-df-container\">\n",
              "      <div>\n",
              "<style scoped>\n",
              "    .dataframe tbody tr th:only-of-type {\n",
              "        vertical-align: middle;\n",
              "    }\n",
              "\n",
              "    .dataframe tbody tr th {\n",
              "        vertical-align: top;\n",
              "    }\n",
              "\n",
              "    .dataframe thead th {\n",
              "        text-align: right;\n",
              "    }\n",
              "</style>\n",
              "<table border=\"1\" class=\"dataframe\">\n",
              "  <thead>\n",
              "    <tr style=\"text-align: right;\">\n",
              "      <th></th>\n",
              "      <th>Area</th>\n",
              "      <th>Prices</th>\n",
              "    </tr>\n",
              "  </thead>\n",
              "  <tbody>\n",
              "    <tr>\n",
              "      <th>0</th>\n",
              "      <td>1000</td>\n",
              "      <td>550000</td>\n",
              "    </tr>\n",
              "    <tr>\n",
              "      <th>1</th>\n",
              "      <td>1500</td>\n",
              "      <td>800000</td>\n",
              "    </tr>\n",
              "    <tr>\n",
              "      <th>2</th>\n",
              "      <td>1800</td>\n",
              "      <td>1050000</td>\n",
              "    </tr>\n",
              "    <tr>\n",
              "      <th>3</th>\n",
              "      <td>2400</td>\n",
              "      <td>1240000</td>\n",
              "    </tr>\n",
              "    <tr>\n",
              "      <th>4</th>\n",
              "      <td>3000</td>\n",
              "      <td>1400000</td>\n",
              "    </tr>\n",
              "    <tr>\n",
              "      <th>5</th>\n",
              "      <td>3500</td>\n",
              "      <td>1650000</td>\n",
              "    </tr>\n",
              "  </tbody>\n",
              "</table>\n",
              "</div>\n",
              "      <button class=\"colab-df-convert\" onclick=\"convertToInteractive('df-f79b1047-ebf9-4cc7-9749-0979ca2107d8')\"\n",
              "              title=\"Convert this dataframe to an interactive table.\"\n",
              "              style=\"display:none;\">\n",
              "        \n",
              "  <svg xmlns=\"http://www.w3.org/2000/svg\" height=\"24px\"viewBox=\"0 0 24 24\"\n",
              "       width=\"24px\">\n",
              "    <path d=\"M0 0h24v24H0V0z\" fill=\"none\"/>\n",
              "    <path d=\"M18.56 5.44l.94 2.06.94-2.06 2.06-.94-2.06-.94-.94-2.06-.94 2.06-2.06.94zm-11 1L8.5 8.5l.94-2.06 2.06-.94-2.06-.94L8.5 2.5l-.94 2.06-2.06.94zm10 10l.94 2.06.94-2.06 2.06-.94-2.06-.94-.94-2.06-.94 2.06-2.06.94z\"/><path d=\"M17.41 7.96l-1.37-1.37c-.4-.4-.92-.59-1.43-.59-.52 0-1.04.2-1.43.59L10.3 9.45l-7.72 7.72c-.78.78-.78 2.05 0 2.83L4 21.41c.39.39.9.59 1.41.59.51 0 1.02-.2 1.41-.59l7.78-7.78 2.81-2.81c.8-.78.8-2.07 0-2.86zM5.41 20L4 18.59l7.72-7.72 1.47 1.35L5.41 20z\"/>\n",
              "  </svg>\n",
              "      </button>\n",
              "      \n",
              "  <style>\n",
              "    .colab-df-container {\n",
              "      display:flex;\n",
              "      flex-wrap:wrap;\n",
              "      gap: 12px;\n",
              "    }\n",
              "\n",
              "    .colab-df-convert {\n",
              "      background-color: #E8F0FE;\n",
              "      border: none;\n",
              "      border-radius: 50%;\n",
              "      cursor: pointer;\n",
              "      display: none;\n",
              "      fill: #1967D2;\n",
              "      height: 32px;\n",
              "      padding: 0 0 0 0;\n",
              "      width: 32px;\n",
              "    }\n",
              "\n",
              "    .colab-df-convert:hover {\n",
              "      background-color: #E2EBFA;\n",
              "      box-shadow: 0px 1px 2px rgba(60, 64, 67, 0.3), 0px 1px 3px 1px rgba(60, 64, 67, 0.15);\n",
              "      fill: #174EA6;\n",
              "    }\n",
              "\n",
              "    [theme=dark] .colab-df-convert {\n",
              "      background-color: #3B4455;\n",
              "      fill: #D2E3FC;\n",
              "    }\n",
              "\n",
              "    [theme=dark] .colab-df-convert:hover {\n",
              "      background-color: #434B5C;\n",
              "      box-shadow: 0px 1px 3px 1px rgba(0, 0, 0, 0.15);\n",
              "      filter: drop-shadow(0px 1px 2px rgba(0, 0, 0, 0.3));\n",
              "      fill: #FFFFFF;\n",
              "    }\n",
              "  </style>\n",
              "\n",
              "      <script>\n",
              "        const buttonEl =\n",
              "          document.querySelector('#df-f79b1047-ebf9-4cc7-9749-0979ca2107d8 button.colab-df-convert');\n",
              "        buttonEl.style.display =\n",
              "          google.colab.kernel.accessAllowed ? 'block' : 'none';\n",
              "\n",
              "        async function convertToInteractive(key) {\n",
              "          const element = document.querySelector('#df-f79b1047-ebf9-4cc7-9749-0979ca2107d8');\n",
              "          const dataTable =\n",
              "            await google.colab.kernel.invokeFunction('convertToInteractive',\n",
              "                                                     [key], {});\n",
              "          if (!dataTable) return;\n",
              "\n",
              "          const docLinkHtml = 'Like what you see? Visit the ' +\n",
              "            '<a target=\"_blank\" href=https://colab.research.google.com/notebooks/data_table.ipynb>data table notebook</a>'\n",
              "            + ' to learn more about interactive tables.';\n",
              "          element.innerHTML = '';\n",
              "          dataTable['output_type'] = 'display_data';\n",
              "          await google.colab.output.renderOutput(dataTable, element);\n",
              "          const docLink = document.createElement('div');\n",
              "          docLink.innerHTML = docLinkHtml;\n",
              "          element.appendChild(docLink);\n",
              "        }\n",
              "      </script>\n",
              "    </div>\n",
              "  </div>\n",
              "  "
            ]
          },
          "metadata": {},
          "execution_count": 3
        }
      ]
    },
    {
      "cell_type": "code",
      "source": [
        "#2.Preprocessing - Here we are not performing step no 2 beacuse it is not required"
      ],
      "metadata": {
        "id": "QlFBRjsoJxOx"
      },
      "execution_count": null,
      "outputs": []
    },
    {
      "cell_type": "code",
      "source": [
        "#3.VISUALISATION - creation of Graphs\n",
        "import matplotlib.pyplot as plt\n",
        "#plt.scatter(x-axis,y-axis)\n",
        "plt.scatter(df['Area'],df['Prices'])\n",
        "plt.title('Area vs Prices')\n",
        "plt.xlabel('X-Axis')\n",
        "plt.ylabel('Y-axis')\n",
        "plt.grid()"
      ],
      "metadata": {
        "colab": {
          "base_uri": "https://localhost:8080/",
          "height": 295
        },
        "id": "HJHC6dMZKtlP",
        "outputId": "da8b4e67-3ac8-42e7-f02b-a422b2bf4d51"
      },
      "execution_count": null,
      "outputs": [
        {
          "output_type": "display_data",
          "data": {
            "text/plain": [
              "<Figure size 432x288 with 1 Axes>"
            ],
            "image/png": "[encoded data removed]"
          },
          "metadata": {
            "needs_background": "light"
          }
        }
      ]
    },
    {
      "cell_type": "code",
      "source": [
        "#Input - Area ,output - Prices\n",
        "#4.Divide the data into input(x) and output(y)\n",
        "#input(x) is always 2 dimensional array\n",
        "#In df.iloc ,in the column slicing part ,if there is a ':' , then array is 2 dimensional\n",
        "x = df.iloc[0:6,0:1].values# df.iloc[:,0:1].values\n",
        "x # .values converts my dataframe into an array"
      ],
      "metadata": {
        "colab": {
          "base_uri": "https://localhost:8080/"
        },
        "id": "IoAgFnVnLPcJ",
        "outputId": "df7acf45-6ad5-4555-f467-d97608f6e7c3"
      },
      "execution_count": null,
      "outputs": [
        {
          "output_type": "execute_result",
          "data": {
            "text/plain": [
              "array([[1000],\n",
              "       [1500],\n",
              "       [1800],\n",
              "       [2400],\n",
              "       [3000],\n",
              "       [3500]])"
            ]
          },
          "metadata": {},
          "execution_count": 9
        }
      ]
    },
    {
      "cell_type": "code",
      "source": [
        "x.ndim"
      ],
      "metadata": {
        "colab": {
          "base_uri": "https://localhost:8080/"
        },
        "id": "XG8-SsAVNc8Q",
        "outputId": "5359bbb1-b91b-4a5b-871b-015e7ccc8d0c"
      },
      "execution_count": null,
      "outputs": [
        {
          "output_type": "execute_result",
          "data": {
            "text/plain": [
              "2"
            ]
          },
          "metadata": {},
          "execution_count": 10
        }
      ]
    },
    {
      "cell_type": "code",
      "source": [
        "#y is always 1 dimensional\n",
        "y = df.iloc[:,1].values\n",
        "y"
      ],
      "metadata": {
        "colab": {
          "base_uri": "https://localhost:8080/"
        },
        "id": "pe7UFCHSN7Qs",
        "outputId": "41ce15df-fc73-4564-9e42-b8d4d36f57fb"
      },
      "execution_count": null,
      "outputs": [
        {
          "output_type": "execute_result",
          "data": {
            "text/plain": [
              "array([ 550000,  800000, 1050000, 1240000, 1400000, 1650000])"
            ]
          },
          "metadata": {},
          "execution_count": 11
        }
      ]
    },
    {
      "cell_type": "code",
      "source": [
        "#5.Train and Test variables\n",
        "#we are not performing this step due to limited data"
      ],
      "metadata": {
        "id": "bMJbFWzjO_XW"
      },
      "execution_count": null,
      "outputs": []
    },
    {
      "cell_type": "code",
      "source": [
        "#6.NORMALIZATION/SCALING\n",
        "#Again we are not perofrming this step for univariate \n",
        "#Scaling is only done for multivariate data based models"
      ],
      "metadata": {
        "id": "YRNjtGSJPsOa"
      },
      "execution_count": null,
      "outputs": []
    },
    {
      "cell_type": "code",
      "source": [
        "#7.Run a CLASSIFIER/REGRESSOR/CLUSTERER (Applying a Suitable Algorithm)\n",
        "#sklearn.linear_model - Package(collection of libraries),LinearRegression - Library Name\n",
        "from sklearn.linear_model import LinearRegression\n",
        "model = LinearRegression()"
      ],
      "metadata": {
        "id": "dfUnOJSRQD3R"
      },
      "execution_count": null,
      "outputs": []
    },
    {
      "cell_type": "code",
      "source": [
        "#8.FIT the MODEL(Mapping /Plotting of x and y in the LINEAR REGRESSION library)\n",
        "#LinearRegression.fit(x,y)\n",
        "model.fit(x,y)\n"
      ],
      "metadata": {
        "colab": {
          "base_uri": "https://localhost:8080/"
        },
        "id": "a1TWhc-OQ9M-",
        "outputId": "543dba79-28b3-4692-96d5-cbf2ea4f400c"
      },
      "execution_count": null,
      "outputs": [
        {
          "output_type": "execute_result",
          "data": {
            "text/plain": [
              "LinearRegression()"
            ]
          },
          "metadata": {},
          "execution_count": 15
        }
      ]
    },
    {
      "cell_type": "code",
      "source": [
        "#9.PREDICT THE OUTPUT\n",
        "y_pred = model.predict(x) #Using the input values ,we predict the output\n",
        "y_pred #PREDICTED OUTPUT VALUES"
      ],
      "metadata": {
        "colab": {
          "base_uri": "https://localhost:8080/"
        },
        "id": "w2zD3gopRLZ0",
        "outputId": "51c69cdc-8955-4645-b287-7bbadf6e53ab"
      },
      "execution_count": null,
      "outputs": [
        {
          "output_type": "execute_result",
          "data": {
            "text/plain": [
              "array([ 611053.81165919,  821031.39013453,  947017.93721973,\n",
              "       1198991.03139013, 1450964.12556054, 1660941.70403587])"
            ]
          },
          "metadata": {},
          "execution_count": 16
        }
      ]
    },
    {
      "cell_type": "code",
      "source": [
        "y #ACTUAL OUTPUT VALUES"
      ],
      "metadata": {
        "colab": {
          "base_uri": "https://localhost:8080/"
        },
        "id": "Srzn8HRrSVoy",
        "outputId": "5e6a5cb1-6c0c-47d2-c27f-e26ae32f8cf5"
      },
      "execution_count": null,
      "outputs": [
        {
          "output_type": "execute_result",
          "data": {
            "text/plain": [
              "array([ 550000,  800000, 1050000, 1240000, 1400000, 1650000])"
            ]
          },
          "metadata": {},
          "execution_count": 18
        }
      ]
    },
    {
      "cell_type": "code",
      "source": [
        "#CONCLUSION : We have to compare both y_pred and y. So when we compare we come to know that\n",
        "#There is a huge difference in the corresponding values\n",
        "#This huge difference does not mean that our model has predicted wrong\n",
        "#It only means that out model is not LINEAR /less LINEAR.\n",
        "#LINEARITY of a model depends on the Nature of the data considered as well as the size of the data."
      ],
      "metadata": {
        "id": "cyHDxMyLSZzR"
      },
      "execution_count": null,
      "outputs": []
    },
    {
      "cell_type": "code",
      "source": [
        "#INDIVIDUAL PREDICTION\n",
        "# NOw I want to know the price of 2000 sqft\n",
        "model.predict([[2000]])"
      ],
      "metadata": {
        "colab": {
          "base_uri": "https://localhost:8080/"
        },
        "id": "SiKrjlyGTZd1",
        "outputId": "a8fdf570-1e6f-433d-cf74-eca9ee723cf9"
      },
      "execution_count": null,
      "outputs": [
        {
          "output_type": "execute_result",
          "data": {
            "text/plain": [
              "array([1031008.96860987])"
            ]
          },
          "metadata": {},
          "execution_count": 20
        }
      ]
    },
    {
      "cell_type": "code",
      "source": [
        "#CROSS VERIFICATION TECHNIQUE\n",
        "#y = mx +C #Equation of Straight line\n",
        "#m - Slope\n",
        "#C - Constant/y-intercept\n",
        "#y - dependent variable\n",
        "#x - independent variable"
      ],
      "metadata": {
        "id": "fzu8DA97TtgC"
      },
      "execution_count": null,
      "outputs": []
    },
    {
      "cell_type": "code",
      "source": [
        "#to find out the slope(m)\n",
        "m = model.coef_\n",
        "m"
      ],
      "metadata": {
        "colab": {
          "base_uri": "https://localhost:8080/"
        },
        "id": "5luXbQ4VUaOo",
        "outputId": "8fa64313-3510-4871-dd66-a7e0aa49cf4d"
      },
      "execution_count": null,
      "outputs": [
        {
          "output_type": "execute_result",
          "data": {
            "text/plain": [
              "array([419.95515695])"
            ]
          },
          "metadata": {},
          "execution_count": 23
        }
      ]
    },
    {
      "cell_type": "code",
      "source": [
        "C = model.intercept_\n",
        "C"
      ],
      "metadata": {
        "colab": {
          "base_uri": "https://localhost:8080/"
        },
        "id": "Z5BVTE7kU3jy",
        "outputId": "f1f3a9fa-e327-4592-9053-46f4ba0a2b3d"
      },
      "execution_count": null,
      "outputs": [
        {
          "output_type": "execute_result",
          "data": {
            "text/plain": [
              "191098.65470852004"
            ]
          },
          "metadata": {},
          "execution_count": 24
        }
      ]
    },
    {
      "cell_type": "code",
      "source": [
        "#y = mx + C\n",
        "m*2000 + C"
      ],
      "metadata": {
        "colab": {
          "base_uri": "https://localhost:8080/"
        },
        "id": "_oHFIu4sU_yP",
        "outputId": "eccd135c-7ce0-4aa5-9372-90328d518983"
      },
      "execution_count": null,
      "outputs": [
        {
          "output_type": "execute_result",
          "data": {
            "text/plain": [
              "array([1031008.96860987])"
            ]
          },
          "metadata": {},
          "execution_count": 25
        }
      ]
    },
    {
      "cell_type": "code",
      "source": [
        "#VISUALISATION for the best fit LINE\n",
        "plt.scatter(x,y) #ACTUAL VALUES\n",
        "plt.plot(x,y_pred,c = 'Orange') #PREDICTED VALUES\n",
        "plt.title('BEST FIT LINE')\n",
        "plt.xlabel('Area')\n",
        "plt.ylabel('Prices')"
      ],
      "metadata": {
        "colab": {
          "base_uri": "https://localhost:8080/",
          "height": 313
        },
        "id": "F4AK8dD3VHNd",
        "outputId": "ce0bcda8-0eab-4563-ee3a-46c9c17f2959"
      },
      "execution_count": null,
      "outputs": [
        {
          "output_type": "execute_result",
          "data": {
            "text/plain": [
              "Text(0, 0.5, 'Prices')"
            ]
          },
          "metadata": {},
          "execution_count": 26
        },
        {
          "output_type": "display_data",
          "data": {
            "text/plain": [
              "<Figure size 432x288 with 1 Axes>"
            ],
            "image/png": "[encoded data removed]"
          },
          "metadata": {
            "needs_background": "light"
          }
        }
      ]
    },
    {
      "cell_type": "code",
      "source": [],
      "metadata": {
        "id": "nkwNRNcoV94M"
      },
      "execution_count": null,
      "outputs": []
    }
  ]
}